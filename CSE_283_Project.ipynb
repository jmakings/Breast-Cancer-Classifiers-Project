{
  "nbformat": 4,
  "nbformat_minor": 0,
  "metadata": {
    "colab": {
      "provenance": [],
      "collapsed_sections": [],
      "authorship_tag": "ABX9TyOyGB+xGUzTp68XMmHuKGxi",
      "include_colab_link": true
    },
    "kernelspec": {
      "name": "python3",
      "display_name": "Python 3"
    },
    "language_info": {
      "name": "python"
    }
  },
  "cells": [
    {
      "cell_type": "markdown",
      "metadata": {
        "id": "view-in-github",
        "colab_type": "text"
      },
      "source": [
        "<a href=\"https://colab.research.google.com/github/jmakings/Breast-Cancer-Classifiers-Project/blob/main/CSE_283_Project.ipynb\" target=\"_parent\"><img src=\"https://colab.research.google.com/assets/colab-badge.svg\" alt=\"Open In Colab\"/></a>"
      ]
    },
    {
      "cell_type": "code",
      "execution_count": 1,
      "metadata": {
        "id": "r4NfK5FGuxN0"
      },
      "outputs": [],
      "source": [
        "import numpy as np\n",
        "import pandas as pd\n",
        "from sklearn.ensemble import RandomForestClassifier\n",
        "from sklearn.discriminant_analysis import LinearDiscriminantAnalysis\n",
        "from sklearn.model_selection import train_test_split, cross_val_score, cross_val_predict\n",
        "from sklearn.feature_selection import SelectKBest, chi2, f_classif, mutual_info_classif\n",
        "from sklearn.metrics import precision_score, balanced_accuracy_score, recall_score, roc_auc_score, roc_curve\n",
        "from sklearn.pipeline import make_pipeline\n",
        "from sklearn.preprocessing import StandardScaler\n",
        "from sklearn.linear_model import LogisticRegression\n",
        "from sklearn import svm\n",
        "from tqdm import tqdm\n",
        "import matplotlib.pyplot as plt\n",
        "import seaborn as sns\n",
        "import random"
      ]
    },
    {
      "cell_type": "code",
      "source": [
        "random.seed(10)"
      ],
      "metadata": {
        "id": "oeQew_AzoQ9N"
      },
      "execution_count": 2,
      "outputs": []
    },
    {
      "cell_type": "code",
      "source": [
        "from google.colab import files\n",
        "uploaded = files.upload()"
      ],
      "metadata": {
        "id": "rEjPnxcku9PZ"
      },
      "execution_count": null,
      "outputs": []
    },
    {
      "cell_type": "code",
      "source": [
        "# metadata of patients with breast cancer. Last column is R/N for recurrence vs non-recurrence\n",
        "cancermeta = pd.read_csv(\"/content/pnas_patient_info.csv\")\n",
        "validcancer = pd.read_excel('/content/validation_bc_meta.xlsx')\n",
        "validnormal = pd.read_excel('/content/validation_normal_meta.xlsx')"
      ],
      "metadata": {
        "id": "gvonbwHN2BJa"
      },
      "execution_count": null,
      "outputs": []
    },
    {
      "cell_type": "code",
      "source": [
        "# readcounts/transcripts per million for breast cancer patients, non-cancer patients, and validation dataset\n",
        "readcounts = pd.read_csv(\"/content/pnas_readcounts_96_nodup.txt\",sep=\"\\t\")\n",
        "readtpm = pd.read_csv(\"/content/pnas_tpm_96_nodup.txt\",sep=\"\\t\")\n",
        "normalcounts = pd.read_csv(\"/content/pnas_normal_readcounts.txt\",sep=\"\\t\")\n",
        "normaltpm = pd.read_csv(\"/content/pnas_normal_tpm.txt\",sep=\"\\t\")\n",
        "validcounts = pd.read_csv(\"/content/validation_exon_readcounts\",sep=\"\\t\")\n",
        "validtpm = pd.read_csv(\"/content/validation_exon_tpm\",sep=\"\\t\")"
      ],
      "metadata": {
        "id": "NEOoQl06m996"
      },
      "execution_count": null,
      "outputs": []
    },
    {
      "cell_type": "code",
      "source": [
        "# numpy array of recurrence status of 96 cancer patients, for dependent variable of classifier\n",
        "recurstatus = cancermeta['recurStatus'].to_numpy()"
      ],
      "metadata": {
        "id": "JSaUtfbY3cv0"
      },
      "execution_count": null,
      "outputs": []
    },
    {
      "cell_type": "code",
      "source": [
        "recurstatus = [1 if i == 'R' else 0 for i in recurstatus ]"
      ],
      "metadata": {
        "id": "d4aL9z9aInqX"
      },
      "execution_count": null,
      "outputs": []
    },
    {
      "cell_type": "code",
      "source": [
        "#columns annotated this way so the first patient in each pandas dataframe is index #1 \n",
        "columns = [\"C\"+str(i) for i in range(0,97)]\n",
        "ncolumns = [\"N\"+str(i) for i in range(1,33)]\n",
        "vlen = len(validcounts.T)"
      ],
      "metadata": {
        "id": "cCO1BwJn_2Ie"
      },
      "execution_count": null,
      "outputs": []
    },
    {
      "cell_type": "code",
      "source": [
        "readtpm.columns = columns \n",
        "readcounts.columns = columns\n",
        "normalcounts.columns = ncolumns \n",
        "normaltpm.columns = ncolumns"
      ],
      "metadata": {
        "id": "dahnbu6iBnuo"
      },
      "execution_count": null,
      "outputs": []
    },
    {
      "cell_type": "code",
      "source": [
        "# makes the gene names the index\n",
        "readtpm = readtpm.set_index(\"C0\")\n",
        "readcounts = readcounts.set_index(\"C0\")\n",
        "readtpmT = readtpm.T "
      ],
      "metadata": {
        "id": "Y-HvIGRF1vqW"
      },
      "execution_count": null,
      "outputs": []
    },
    {
      "cell_type": "code",
      "source": [
        "# default support vector machine w/ cross validation for all tpm counts\n",
        "svmlinear = svm.SVC(kernel=\"linear\", C=1, random_state=42)\n",
        "svmbaseline = cross_val_score(svmlinear, readtpmT, recurstatus, cv=3)\n",
        "svmpreds = cross_val_predict(svmlinear, readtpmT, recurstatus, cv=3)\n",
        "svmbaseline"
      ],
      "metadata": {
        "colab": {
          "base_uri": "https://localhost:8080/"
        },
        "id": "D9fMsL4R-gRj",
        "outputId": "7a27e06e-4544-43b1-e630-137ca9af3f47"
      },
      "execution_count": null,
      "outputs": [
        {
          "output_type": "execute_result",
          "data": {
            "text/plain": [
              "array([0.6875 , 0.65625, 0.59375])"
            ]
          },
          "metadata": {},
          "execution_count": 11
        }
      ]
    },
    {
      "cell_type": "code",
      "source": [
        "# random forest \n",
        "rf = RandomForestClassifier()\n",
        "rfbaseline = cross_val_score(rf, readtpmT, recurstatus, cv=3)\n",
        "rfpreds = cross_val_predict(rf, readtpmT, recurstatus, cv=3)\n",
        "rfbaseline"
      ],
      "metadata": {
        "colab": {
          "base_uri": "https://localhost:8080/"
        },
        "id": "RF72XLkG_tvU",
        "outputId": "d6311561-f5eb-4452-de8a-1fefc4e95e06"
      },
      "execution_count": null,
      "outputs": [
        {
          "output_type": "execute_result",
          "data": {
            "text/plain": [
              "array([0.6875 , 0.71875, 0.71875])"
            ]
          },
          "metadata": {},
          "execution_count": 13
        }
      ]
    },
    {
      "cell_type": "code",
      "source": [
        "# this predicts the same class every time, so obviously there's some work to be done\n",
        "rfpreds"
      ],
      "metadata": {
        "id": "9RP-J-sgDF6X",
        "colab": {
          "base_uri": "https://localhost:8080/"
        },
        "outputId": "9d8a093e-1ebf-4160-aa41-6c2600bf2129"
      },
      "execution_count": null,
      "outputs": [
        {
          "output_type": "execute_result",
          "data": {
            "text/plain": [
              "array([0, 0, 0, 0, 0, 0, 0, 0, 0, 0, 0, 0, 0, 0, 0, 0, 0, 0, 0, 0, 0, 0,\n",
              "       0, 0, 0, 0, 0, 0, 0, 0, 0, 0, 0, 0, 0, 0, 0, 0, 0, 0, 0, 0, 0, 0,\n",
              "       0, 0, 0, 0, 0, 0, 0, 0, 0, 0, 0, 0, 0, 0, 0, 0, 0, 0, 0, 0, 0, 0,\n",
              "       0, 0, 0, 0, 0, 0, 0, 0, 0, 0, 0, 0, 0, 0, 0, 0, 0, 0, 0, 0, 0, 0,\n",
              "       0, 0, 0, 0, 0, 0, 0, 0])"
            ]
          },
          "metadata": {},
          "execution_count": 14
        }
      ]
    },
    {
      "cell_type": "code",
      "source": [
        "#select k best features, given an array of k values, and the x and y of a training set\n",
        "def kBestArray(array, x, y): \n",
        "  featureSet = []\n",
        "  featureNames = []\n",
        "  scoresVals = []\n",
        "  for i in array: \n",
        "    cls = SelectKBest(f_classif, k=i)\n",
        "    f = cls.fit_transform(x,y)\n",
        "    scores = cls.fit(x,y).scores_\n",
        "    names = cls.get_feature_names_out()\n",
        "    featureSet.append(f)\n",
        "    featureNames.append(names)\n",
        "    scoresVals.append(scores)\n",
        "  return featureSet, featureNames, scoresVals"
      ],
      "metadata": {
        "id": "T9lzUUoYMtQH"
      },
      "execution_count": null,
      "outputs": []
    },
    {
      "cell_type": "code",
      "source": [
        "numFeatures = [5,10,25,50,100,200, 500, 1000, 5000, 10000, 20000, 30000, 60000]\n",
        "featureArray, namesRecur, fscores = kBestArray(numFeatures,readtpmT, recurstatus)"
      ],
      "metadata": {
        "id": "iZtlOotiOQ57"
      },
      "execution_count": null,
      "outputs": []
    },
    {
      "cell_type": "code",
      "source": [
        "#given an array of the top features, training set y, a classifier to train, and a k for k-fold cross validation,\n",
        "#returns k-fold accuracy scores, predictions, and fpr and tpr for graphing Area under Reciever Operating Characteristic\n",
        "def kFoldArrTest(array, y, cls, k):\n",
        "  scores = {}\n",
        "  preds = {}\n",
        "  roc_arrays = {}\n",
        "  #rocs = {}\n",
        "  for i in array: \n",
        "    s = cross_val_score(cls, i, y,cv=k)\n",
        "    s = [round(i,5) for i in s]\n",
        "    p = cross_val_predict(cls, i, y,cv=k)\n",
        "    probs = cross_val_predict(cls, i , y,cv=k,method='predict_proba')[:,1]\n",
        "    fpr, tpr, thresholds = roc_curve(y, probs)\n",
        "    roc_inner = [fpr, tpr]\n",
        "    roc = roc_auc_score(y, probs)\n",
        "\n",
        "    numfeats = i.shape[1]\n",
        "    scores[numfeats] = {\"Acc\":s, \"ROC\":roc}\n",
        "    #rocs[numfeats] = roc \n",
        "    preds[numfeats] = p\n",
        "    roc_arrays[numfeats] = roc_inner\n",
        "  return scores, preds, roc_arrays"
      ],
      "metadata": {
        "id": "D5KtSbrzO3NN"
      },
      "execution_count": null,
      "outputs": []
    },
    {
      "cell_type": "code",
      "source": [
        "scores, preds, rocs = kFoldArrTest(featureArray, recurstatus, rf,3) "
      ],
      "metadata": {
        "id": "YLLL3EtmRySe"
      },
      "execution_count": null,
      "outputs": []
    },
    {
      "cell_type": "code",
      "source": [
        "#graphs Area under Reciever Operating Characteristic, given a dictionary entry from \"kFoldArrTest\"\n",
        "def graphROC(ROClist, title,score): #dict index from testFeatures, title, and dict index from scores\n",
        "  print(len(ROClist))\n",
        "  if len(ROClist) == 2: \n",
        "    fpr = ROClist[0]\n",
        "    tpr = ROClist[1]\n",
        "    plt.plot(fpr,tpr)\n",
        "  else:\n",
        "    for i in ROClist:\n",
        "      fpr = i[0]\n",
        "      tpr = i[1]\n",
        "      plt.plot(fpr,tpr)\n",
        "  mean = round(score['ROC'], 4)\n",
        "  plt.text(0.3,0.1,f\"Average AUC: {mean}\", fontdict = {'size':14})\n",
        "  plt.xlabel('False Positive Rate')\n",
        "  plt.ylabel(\"True Positive Rate\")\n",
        "  plt.plot([0,1],[0,1], linestyle= 'dashed')\n",
        "  plt.title(title)\n"
      ],
      "metadata": {
        "id": "eZuEilyOMzut"
      },
      "execution_count": null,
      "outputs": []
    },
    {
      "cell_type": "code",
      "source": [
        "graphROC(rocs[10], \"ROC AUC for Random Forest with 10 Features\\n3-fold Cross Validation\", scores[10])"
      ],
      "metadata": {
        "colab": {
          "base_uri": "https://localhost:8080/",
          "height": 328
        },
        "id": "TDCkBGm0ccYC",
        "outputId": "2bad3eb5-9814-46f5-f5de-b47dc1ce2532"
      },
      "execution_count": null,
      "outputs": [
        {
          "output_type": "stream",
          "name": "stdout",
          "text": [
            "2\n"
          ]
        },
        {
          "output_type": "display_data",
          "data": {
            "text/plain": [
              "<Figure size 432x288 with 1 Axes>"
            ],
            "image/png": "[encoded data removed]"
          },
          "metadata": {
            "needs_background": "light"
          }
        }
      ]
    },
    {
      "cell_type": "code",
      "source": [
        "#looking like using the 10 features with highest variance nets pretty good predictions\n",
        "scores"
      ],
      "metadata": {
        "id": "g8qlMBWOSlOE",
        "colab": {
          "base_uri": "https://localhost:8080/"
        },
        "outputId": "083172b2-40a2-42c1-8501-173a93a55034"
      },
      "execution_count": null,
      "outputs": [
        {
          "output_type": "execute_result",
          "data": {
            "text/plain": [
              "{5: {'Acc': [0.71875, 0.90625, 0.75], 'ROC': 0.8728991596638654},\n",
              " 10: {'Acc': [0.875, 0.90625, 0.875], 'ROC': 0.9314600840336136},\n",
              " 25: {'Acc': [0.75, 0.875, 0.8125], 'ROC': 0.9338235294117647},\n",
              " 50: {'Acc': [0.78125, 0.84375, 0.78125], 'ROC': 0.9522058823529412},\n",
              " 100: {'Acc': [0.90625, 0.75, 0.8125], 'ROC': 0.9813550420168068},\n",
              " 200: {'Acc': [0.6875, 0.78125, 0.75], 'ROC': 0.9900210084033614},\n",
              " 500: {'Acc': [0.78125, 0.75, 0.8125], 'ROC': 0.9703256302521008},\n",
              " 1000: {'Acc': [0.71875, 0.78125, 0.71875], 'ROC': 0.9816176470588235},\n",
              " 5000: {'Acc': [0.6875, 0.71875, 0.71875], 'ROC': 0.9611344537815126},\n",
              " 10000: {'Acc': [0.6875, 0.75, 0.71875], 'ROC': 0.8973214285714286},\n",
              " 20000: {'Acc': [0.6875, 0.71875, 0.71875], 'ROC': 0.8537289915966386},\n",
              " 30000: {'Acc': [0.6875, 0.71875, 0.71875], 'ROC': 0.8293067226890756},\n",
              " 60000: {'Acc': [0.6875, 0.71875, 0.71875], 'ROC': 0.5186449579831933}}"
            ]
          },
          "metadata": {},
          "execution_count": 21
        }
      ]
    },
    {
      "cell_type": "code",
      "source": [
        "def plotfromScoresLog(testscore, title): \n",
        "  nums = list(testscore.keys())\n",
        "  scores = []\n",
        "  for i in testscore.values(): \n",
        "    scores.append(i['ROC'])\n",
        "  plt.title(title)\n",
        "  plt.xscale('log')\n",
        "  plt.xlabel(\"Genes used as Features (log scale)\")\n",
        "  plt.ylabel(\"ROC AUC Score\")\n",
        "  plt.plot(nums,scores)"
      ],
      "metadata": {
        "id": "U04d1zpBIPa0"
      },
      "execution_count": null,
      "outputs": []
    },
    {
      "cell_type": "code",
      "source": [
        "def plotfromScores(testscore, title): \n",
        "  nums = list(testscore.keys())\n",
        "  scores = []\n",
        "  for i in testscore.values(): \n",
        "    scores.append(i['ROC'])\n",
        "  plt.title(title)\n",
        "  plt.xlabel(\"Genes used as Features\")\n",
        "  plt.ylabel(\"ROC AUC Score\")\n",
        "  plt.plot(nums,scores)"
      ],
      "metadata": {
        "id": "9T3kiayvY36s"
      },
      "execution_count": null,
      "outputs": []
    },
    {
      "cell_type": "code",
      "source": [
        "plotfromScoresLog(scores, \"ROC AUC Scores for 3-fold cross validation of PNAS dataset \")"
      ],
      "metadata": {
        "colab": {
          "base_uri": "https://localhost:8080/",
          "height": 299
        },
        "id": "K3-61B5NavTX",
        "outputId": "81bbb6b9-475e-4dc1-aca7-eae32db65531"
      },
      "execution_count": null,
      "outputs": [
        {
          "output_type": "display_data",
          "data": {
            "text/plain": [
              "<Figure size 432x288 with 1 Axes>"
            ],
            "image/png": "[encoded data removed]"
          },
          "metadata": {
            "needs_background": "light"
          }
        }
      ]
    },
    {
      "cell_type": "code",
      "source": [
        "scores"
      ],
      "metadata": {
        "colab": {
          "base_uri": "https://localhost:8080/"
        },
        "id": "rnjE2-FxYMS1",
        "outputId": "3064bc8e-27b1-4b54-d0dd-efe634e36001"
      },
      "execution_count": null,
      "outputs": [
        {
          "output_type": "execute_result",
          "data": {
            "text/plain": [
              "{5: {'Acc': [0.71875, 0.90625, 0.75], 'ROC': 0.8728991596638654},\n",
              " 10: {'Acc': [0.875, 0.90625, 0.875], 'ROC': 0.9314600840336136},\n",
              " 25: {'Acc': [0.75, 0.875, 0.8125], 'ROC': 0.9338235294117647},\n",
              " 50: {'Acc': [0.78125, 0.84375, 0.78125], 'ROC': 0.9522058823529412},\n",
              " 100: {'Acc': [0.90625, 0.75, 0.8125], 'ROC': 0.9813550420168068},\n",
              " 200: {'Acc': [0.6875, 0.78125, 0.75], 'ROC': 0.9900210084033614},\n",
              " 500: {'Acc': [0.78125, 0.75, 0.8125], 'ROC': 0.9703256302521008},\n",
              " 1000: {'Acc': [0.71875, 0.78125, 0.71875], 'ROC': 0.9816176470588235},\n",
              " 5000: {'Acc': [0.6875, 0.71875, 0.71875], 'ROC': 0.9611344537815126},\n",
              " 10000: {'Acc': [0.6875, 0.75, 0.71875], 'ROC': 0.8973214285714286},\n",
              " 20000: {'Acc': [0.6875, 0.71875, 0.71875], 'ROC': 0.8537289915966386},\n",
              " 30000: {'Acc': [0.6875, 0.71875, 0.71875], 'ROC': 0.8293067226890756},\n",
              " 60000: {'Acc': [0.6875, 0.71875, 0.71875], 'ROC': 0.5186449579831933}}"
            ]
          },
          "metadata": {},
          "execution_count": 25
        }
      ]
    },
    {
      "cell_type": "code",
      "source": [
        "ScoreDF = pd.DataFrame(data=scores).T\n",
        "ScoreDF.columns = ['3-Fold Accuracy Scores', 'ROC AUC Score']\n",
        "ScoreDF.index.name = 'Genes Used'"
      ],
      "metadata": {
        "id": "FgdFX6ggZoW0"
      },
      "execution_count": null,
      "outputs": []
    },
    {
      "cell_type": "code",
      "source": [
        "acc = ScoreDF['3-Fold Accuracy Scores']\n",
        "ScoreDF.drop(columns=['3-Fold Accuracy Scores'], inplace=True)\n",
        "newAcc = [np.mean(i) for i in acc]\n",
        "ScoreDF['Mean 3-Fold Accuracy'] = newAcc \n"
      ],
      "metadata": {
        "id": "_gKcr3xWi7TD"
      },
      "execution_count": null,
      "outputs": []
    },
    {
      "cell_type": "code",
      "source": [
        "ScoreDF"
      ],
      "metadata": {
        "colab": {
          "base_uri": "https://localhost:8080/",
          "height": 488
        },
        "id": "hsi-VcsIarzA",
        "outputId": "142b426e-194e-4e00-bc8d-945e464d9c63"
      },
      "execution_count": null,
      "outputs": [
        {
          "output_type": "execute_result",
          "data": {
            "text/plain": [
              "           ROC AUC Score  Mean 3-Fold Accuracy\n",
              "Genes Used                                    \n",
              "5               0.872899              0.791667\n",
              "10               0.93146              0.885417\n",
              "25              0.933824              0.812500\n",
              "50              0.952206              0.802083\n",
              "100             0.981355              0.822917\n",
              "200             0.990021              0.739583\n",
              "500             0.970326              0.781250\n",
              "1000            0.981618              0.739583\n",
              "5000            0.961134              0.708333\n",
              "10000           0.897321              0.718750\n",
              "20000           0.853729              0.708333\n",
              "30000           0.829307              0.708333\n",
              "60000           0.518645              0.708333"
            ],
            "text/html": [
              "\n",
              "  <div id=\"df-7519e3ef-99e7-4916-b2d3-6a25533d2c32\">\n",
              "    <div class=\"colab-df-container\">\n",
              "      <div>\n",
              "<style scoped>\n",
              "    .dataframe tbody tr th:only-of-type {\n",
              "        vertical-align: middle;\n",
              "    }\n",
              "\n",
              "    .dataframe tbody tr th {\n",
              "        vertical-align: top;\n",
              "    }\n",
              "\n",
              "    .dataframe thead th {\n",
              "        text-align: right;\n",
              "    }\n",
              "</style>\n",
              "<table border=\"1\" class=\"dataframe\">\n",
              "  <thead>\n",
              "    <tr style=\"text-align: right;\">\n",
              "      <th></th>\n",
              "      <th>ROC AUC Score</th>\n",
              "      <th>Mean 3-Fold Accuracy</th>\n",
              "    </tr>\n",
              "    <tr>\n",
              "      <th>Genes Used</th>\n",
              "      <th></th>\n",
              "      <th></th>\n",
              "    </tr>\n",
              "  </thead>\n",
              "  <tbody>\n",
              "    <tr>\n",
              "      <th>5</th>\n",
              "      <td>0.872899</td>\n",
              "      <td>0.791667</td>\n",
              "    </tr>\n",
              "    <tr>\n",
              "      <th>10</th>\n",
              "      <td>0.93146</td>\n",
              "      <td>0.885417</td>\n",
              "    </tr>\n",
              "    <tr>\n",
              "      <th>25</th>\n",
              "      <td>0.933824</td>\n",
              "      <td>0.812500</td>\n",
              "    </tr>\n",
              "    <tr>\n",
              "      <th>50</th>\n",
              "      <td>0.952206</td>\n",
              "      <td>0.802083</td>\n",
              "    </tr>\n",
              "    <tr>\n",
              "      <th>100</th>\n",
              "      <td>0.981355</td>\n",
              "      <td>0.822917</td>\n",
              "    </tr>\n",
              "    <tr>\n",
              "      <th>200</th>\n",
              "      <td>0.990021</td>\n",
              "      <td>0.739583</td>\n",
              "    </tr>\n",
              "    <tr>\n",
              "      <th>500</th>\n",
              "      <td>0.970326</td>\n",
              "      <td>0.781250</td>\n",
              "    </tr>\n",
              "    <tr>\n",
              "      <th>1000</th>\n",
              "      <td>0.981618</td>\n",
              "      <td>0.739583</td>\n",
              "    </tr>\n",
              "    <tr>\n",
              "      <th>5000</th>\n",
              "      <td>0.961134</td>\n",
              "      <td>0.708333</td>\n",
              "    </tr>\n",
              "    <tr>\n",
              "      <th>10000</th>\n",
              "      <td>0.897321</td>\n",
              "      <td>0.718750</td>\n",
              "    </tr>\n",
              "    <tr>\n",
              "      <th>20000</th>\n",
              "      <td>0.853729</td>\n",
              "      <td>0.708333</td>\n",
              "    </tr>\n",
              "    <tr>\n",
              "      <th>30000</th>\n",
              "      <td>0.829307</td>\n",
              "      <td>0.708333</td>\n",
              "    </tr>\n",
              "    <tr>\n",
              "      <th>60000</th>\n",
              "      <td>0.518645</td>\n",
              "      <td>0.708333</td>\n",
              "    </tr>\n",
              "  </tbody>\n",
              "</table>\n",
              "</div>\n",
              "      <button class=\"colab-df-convert\" onclick=\"convertToInteractive('df-7519e3ef-99e7-4916-b2d3-6a25533d2c32')\"\n",
              "              title=\"Convert this dataframe to an interactive table.\"\n",
              "              style=\"display:none;\">\n",
              "        \n",
              "  <svg xmlns=\"http://www.w3.org/2000/svg\" height=\"24px\"viewBox=\"0 0 24 24\"\n",
              "       width=\"24px\">\n",
              "    <path d=\"M0 0h24v24H0V0z\" fill=\"none\"/>\n",
              "    <path d=\"M18.56 5.44l.94 2.06.94-2.06 2.06-.94-2.06-.94-.94-2.06-.94 2.06-2.06.94zm-11 1L8.5 8.5l.94-2.06 2.06-.94-2.06-.94L8.5 2.5l-.94 2.06-2.06.94zm10 10l.94 2.06.94-2.06 2.06-.94-2.06-.94-.94-2.06-.94 2.06-2.06.94z\"/><path d=\"M17.41 7.96l-1.37-1.37c-.4-.4-.92-.59-1.43-.59-.52 0-1.04.2-1.43.59L10.3 9.45l-7.72 7.72c-.78.78-.78 2.05 0 2.83L4 21.41c.39.39.9.59 1.41.59.51 0 1.02-.2 1.41-.59l7.78-7.78 2.81-2.81c.8-.78.8-2.07 0-2.86zM5.41 20L4 18.59l7.72-7.72 1.47 1.35L5.41 20z\"/>\n",
              "  </svg>\n",
              "      </button>\n",
              "      \n",
              "  <style>\n",
              "    .colab-df-container {\n",
              "      display:flex;\n",
              "      flex-wrap:wrap;\n",
              "      gap: 12px;\n",
              "    }\n",
              "\n",
              "    .colab-df-convert {\n",
              "      background-color: #E8F0FE;\n",
              "      border: none;\n",
              "      border-radius: 50%;\n",
              "      cursor: pointer;\n",
              "      display: none;\n",
              "      fill: #1967D2;\n",
              "      height: 32px;\n",
              "      padding: 0 0 0 0;\n",
              "      width: 32px;\n",
              "    }\n",
              "\n",
              "    .colab-df-convert:hover {\n",
              "      background-color: #E2EBFA;\n",
              "      box-shadow: 0px 1px 2px rgba(60, 64, 67, 0.3), 0px 1px 3px 1px rgba(60, 64, 67, 0.15);\n",
              "      fill: #174EA6;\n",
              "    }\n",
              "\n",
              "    [theme=dark] .colab-df-convert {\n",
              "      background-color: #3B4455;\n",
              "      fill: #D2E3FC;\n",
              "    }\n",
              "\n",
              "    [theme=dark] .colab-df-convert:hover {\n",
              "      background-color: #434B5C;\n",
              "      box-shadow: 0px 1px 3px 1px rgba(0, 0, 0, 0.15);\n",
              "      filter: drop-shadow(0px 1px 2px rgba(0, 0, 0, 0.3));\n",
              "      fill: #FFFFFF;\n",
              "    }\n",
              "  </style>\n",
              "\n",
              "      <script>\n",
              "        const buttonEl =\n",
              "          document.querySelector('#df-7519e3ef-99e7-4916-b2d3-6a25533d2c32 button.colab-df-convert');\n",
              "        buttonEl.style.display =\n",
              "          google.colab.kernel.accessAllowed ? 'block' : 'none';\n",
              "\n",
              "        async function convertToInteractive(key) {\n",
              "          const element = document.querySelector('#df-7519e3ef-99e7-4916-b2d3-6a25533d2c32');\n",
              "          const dataTable =\n",
              "            await google.colab.kernel.invokeFunction('convertToInteractive',\n",
              "                                                     [key], {});\n",
              "          if (!dataTable) return;\n",
              "\n",
              "          const docLinkHtml = 'Like what you see? Visit the ' +\n",
              "            '<a target=\"_blank\" href=https://colab.research.google.com/notebooks/data_table.ipynb>data table notebook</a>'\n",
              "            + ' to learn more about interactive tables.';\n",
              "          element.innerHTML = '';\n",
              "          dataTable['output_type'] = 'display_data';\n",
              "          await google.colab.output.renderOutput(dataTable, element);\n",
              "          const docLink = document.createElement('div');\n",
              "          docLink.innerHTML = docLinkHtml;\n",
              "          element.appendChild(docLink);\n",
              "        }\n",
              "      </script>\n",
              "    </div>\n",
              "  </div>\n",
              "  "
            ]
          },
          "metadata": {},
          "execution_count": 28
        }
      ]
    },
    {
      "cell_type": "code",
      "source": [
        "def AccAucGraph(scores, title):\n",
        "  x = []\n",
        "  y = []\n",
        "  z = []\n",
        "  for i in scores.keys(): \n",
        "    mean = np.mean(scores[i]['Acc'])\n",
        "    auc = scores[i]['ROC']\n",
        "    x.append(i) \n",
        "    y.append(mean)\n",
        "    z.append(auc)\n",
        "  plt.plot(x,y)\n",
        "  plt.plot(x,z)\n",
        "  plt.xscale('log')\n",
        "  plt.xlabel('Number of Features (Log)')\n",
        "  plt.legend([\"Mean Classifier Accuracy\", \"Mean ROC AUC Score\"])\n",
        "  plt.title(title)"
      ],
      "metadata": {
        "id": "5feMvQqEa5eD"
      },
      "execution_count": null,
      "outputs": []
    },
    {
      "cell_type": "code",
      "source": [
        "AccAucGraph(scores, 'Classifier Accuracy and ROC AUC Score for 5-60000 genes,\\n3-Fold Cross Validation of PNAS Dataset')"
      ],
      "metadata": {
        "colab": {
          "base_uri": "https://localhost:8080/",
          "height": 314
        },
        "id": "QOzhtULNbQV1",
        "outputId": "a5c4d889-da78-4a0d-e152-96d42474970e"
      },
      "execution_count": null,
      "outputs": [
        {
          "output_type": "display_data",
          "data": {
            "text/plain": [
              "<Figure size 432x288 with 1 Axes>"
            ],
            "image/png": "[encoded data removed]"
          },
          "metadata": {
            "needs_background": "light"
          }
        }
      ]
    },
    {
      "cell_type": "code",
      "source": [
        "def meanScore(scores):\n",
        "  vals = {}\n",
        "  for key, values in scores.items(): \n",
        "    print(f\"{key}: Mean: {np.mean(values)} Std: {np.std(values)}\")\n",
        "    vals[key] = [np.mean(values), np.std(values)]\n",
        "  return vals"
      ],
      "metadata": {
        "id": "oIOcgfbHpk7D"
      },
      "execution_count": null,
      "outputs": []
    },
    {
      "cell_type": "code",
      "source": [
        "preds[10]"
      ],
      "metadata": {
        "id": "XkQ79kFNS9Mz",
        "colab": {
          "base_uri": "https://localhost:8080/"
        },
        "outputId": "781ce570-8a18-41e2-fca9-b904a333b6d1"
      },
      "execution_count": null,
      "outputs": [
        {
          "output_type": "execute_result",
          "data": {
            "text/plain": [
              "array([0, 1, 0, 1, 0, 1, 1, 1, 1, 0, 1, 0, 0, 1, 1, 1, 1, 1, 1, 0, 1, 1,\n",
              "       1, 1, 1, 0, 1, 1, 0, 0, 0, 0, 0, 0, 0, 0, 0, 0, 0, 0, 0, 0, 0, 0,\n",
              "       0, 0, 0, 0, 0, 0, 0, 0, 0, 0, 0, 0, 0, 0, 0, 0, 0, 0, 0, 0, 0, 0,\n",
              "       0, 0, 0, 0, 0, 0, 0, 0, 0, 0, 0, 0, 0, 0, 0, 0, 0, 0, 0, 0, 0, 0,\n",
              "       0, 0, 0, 0, 0, 0, 0, 0])"
            ]
          },
          "metadata": {},
          "execution_count": 32
        }
      ]
    },
    {
      "cell_type": "code",
      "source": [
        "# Next: refine to looking at between 6-25 features, get the gene names \n",
        "# of these most predictive features, and test on validation set"
      ],
      "metadata": {
        "id": "siMo4mUxTe-N"
      },
      "execution_count": null,
      "outputs": []
    },
    {
      "cell_type": "code",
      "source": [
        "#refining # of features: \n",
        "refinedSearch, refinedFeats, refinedVal = kBestArray([6,8,9,10,11,12,15,20,23],readtpmT, recurstatus)"
      ],
      "metadata": {
        "id": "vBsk2JjAuL2Y"
      },
      "execution_count": null,
      "outputs": []
    },
    {
      "cell_type": "code",
      "source": [
        "refineScore, refinePred, rocRefine = kFoldArrTest(refinedSearch, recurstatus, rf, 3)"
      ],
      "metadata": {
        "id": "FouoM69r7dqs"
      },
      "execution_count": null,
      "outputs": []
    },
    {
      "cell_type": "code",
      "source": [
        "# ten still seems to be the best\n",
        "meanScore(refineScore[10])"
      ],
      "metadata": {
        "id": "aJxNCaA_7wgk",
        "colab": {
          "base_uri": "https://localhost:8080/"
        },
        "outputId": "f85077fe-8664-4057-deb1-080fafcf5688"
      },
      "execution_count": null,
      "outputs": [
        {
          "output_type": "stream",
          "name": "stdout",
          "text": [
            "Acc: Mean: 0.9270833333333334 Std: 0.01473139127471974\n",
            "ROC: Mean: 0.9356617647058824 Std: 0.0\n"
          ]
        },
        {
          "output_type": "execute_result",
          "data": {
            "text/plain": [
              "{'Acc': [0.9270833333333334, 0.01473139127471974],\n",
              " 'ROC': [0.9356617647058824, 0.0]}"
            ]
          },
          "metadata": {},
          "execution_count": 36
        }
      ]
    },
    {
      "cell_type": "code",
      "source": [
        "#try with dataframe to get features \n",
        "selector = SelectKBest(f_classif, k=10)\n",
        "selector.fit(readtpmT,recurstatus)"
      ],
      "metadata": {
        "id": "-xeMOMsr8I4P",
        "colab": {
          "base_uri": "https://localhost:8080/"
        },
        "outputId": "52bfad7c-2bc5-4e3c-a98a-394c42ee881e"
      },
      "execution_count": null,
      "outputs": [
        {
          "output_type": "stream",
          "name": "stderr",
          "text": [
            "/usr/local/lib/python3.7/dist-packages/sklearn/feature_selection/_univariate_selection.py:112: UserWarning: Features [  277   362  1970 ... 60659 60665 60668] are constant.\n",
            "  warnings.warn(\"Features %s are constant.\" % constant_features_idx, UserWarning)\n",
            "/usr/local/lib/python3.7/dist-packages/sklearn/feature_selection/_univariate_selection.py:113: RuntimeWarning: invalid value encountered in true_divide\n",
            "  f = msb / msw\n"
          ]
        },
        {
          "output_type": "execute_result",
          "data": {
            "text/plain": [
              "SelectKBest()"
            ]
          },
          "metadata": {},
          "execution_count": 37
        }
      ]
    },
    {
      "cell_type": "code",
      "source": [
        "namesRecur[:2]"
      ],
      "metadata": {
        "colab": {
          "base_uri": "https://localhost:8080/"
        },
        "id": "_uQZ4nnlESop",
        "outputId": "5c1f693c-f7da-485c-afcc-b63c7ddddfd1"
      },
      "execution_count": null,
      "outputs": [
        {
          "output_type": "execute_result",
          "data": {
            "text/plain": [
              "[array(['ENSG00000164111', 'ENSG00000172201', 'ENSG00000259657',\n",
              "        'ENSG00000277692', 'ENSG00000279198'], dtype=object),\n",
              " array(['ENSG00000005020', 'ENSG00000116337', 'ENSG00000164111',\n",
              "        'ENSG00000172201', 'ENSG00000178695', 'ENSG00000233337',\n",
              "        'ENSG00000259657', 'ENSG00000269931', 'ENSG00000277692',\n",
              "        'ENSG00000279198'], dtype=object)]"
            ]
          },
          "metadata": {},
          "execution_count": 38
        }
      ]
    },
    {
      "cell_type": "code",
      "source": [
        "featureArray2, namesRecur2, fscores2 = kBestArray([1,2,3,4,5,6,7,8, 9,10],readtpmT, recurstatus)"
      ],
      "metadata": {
        "id": "qJppv_SaJ3t-"
      },
      "execution_count": null,
      "outputs": []
    },
    {
      "cell_type": "code",
      "source": [
        "namesRecur[:2]"
      ],
      "metadata": {
        "colab": {
          "base_uri": "https://localhost:8080/"
        },
        "id": "1t2mRDvuOnTK",
        "outputId": "5b1f343d-d531-4ff8-ccef-018297515604"
      },
      "execution_count": null,
      "outputs": [
        {
          "output_type": "execute_result",
          "data": {
            "text/plain": [
              "[array(['ENSG00000164111', 'ENSG00000172201', 'ENSG00000259657',\n",
              "        'ENSG00000277692', 'ENSG00000279198'], dtype=object),\n",
              " array(['ENSG00000005020', 'ENSG00000116337', 'ENSG00000164111',\n",
              "        'ENSG00000172201', 'ENSG00000178695', 'ENSG00000233337',\n",
              "        'ENSG00000259657', 'ENSG00000269931', 'ENSG00000277692',\n",
              "        'ENSG00000279198'], dtype=object)]"
            ]
          },
          "metadata": {},
          "execution_count": 40
        }
      ]
    },
    {
      "cell_type": "code",
      "source": [
        "namesRecur2"
      ],
      "metadata": {
        "colab": {
          "base_uri": "https://localhost:8080/"
        },
        "id": "SIZSBTssOse1",
        "outputId": "cd814408-eee5-4f01-a59c-918e97b7a6cf"
      },
      "execution_count": null,
      "outputs": [
        {
          "output_type": "execute_result",
          "data": {
            "text/plain": [
              "[array(['ENSG00000279198'], dtype=object),\n",
              " array(['ENSG00000172201', 'ENSG00000279198'], dtype=object),\n",
              " array(['ENSG00000164111', 'ENSG00000172201', 'ENSG00000279198'],\n",
              "       dtype=object),\n",
              " array(['ENSG00000164111', 'ENSG00000172201', 'ENSG00000259657',\n",
              "        'ENSG00000279198'], dtype=object),\n",
              " array(['ENSG00000164111', 'ENSG00000172201', 'ENSG00000259657',\n",
              "        'ENSG00000277692', 'ENSG00000279198'], dtype=object),\n",
              " array(['ENSG00000164111', 'ENSG00000172201', 'ENSG00000178695',\n",
              "        'ENSG00000259657', 'ENSG00000277692', 'ENSG00000279198'],\n",
              "       dtype=object),\n",
              " array(['ENSG00000116337', 'ENSG00000164111', 'ENSG00000172201',\n",
              "        'ENSG00000178695', 'ENSG00000259657', 'ENSG00000277692',\n",
              "        'ENSG00000279198'], dtype=object),\n",
              " array(['ENSG00000005020', 'ENSG00000116337', 'ENSG00000164111',\n",
              "        'ENSG00000172201', 'ENSG00000178695', 'ENSG00000259657',\n",
              "        'ENSG00000277692', 'ENSG00000279198'], dtype=object),\n",
              " array(['ENSG00000005020', 'ENSG00000116337', 'ENSG00000164111',\n",
              "        'ENSG00000172201', 'ENSG00000178695', 'ENSG00000233337',\n",
              "        'ENSG00000259657', 'ENSG00000277692', 'ENSG00000279198'],\n",
              "       dtype=object),\n",
              " array(['ENSG00000005020', 'ENSG00000116337', 'ENSG00000164111',\n",
              "        'ENSG00000172201', 'ENSG00000178695', 'ENSG00000233337',\n",
              "        'ENSG00000259657', 'ENSG00000269931', 'ENSG00000277692',\n",
              "        'ENSG00000279198'], dtype=object)]"
            ]
          },
          "metadata": {},
          "execution_count": 41
        }
      ]
    },
    {
      "cell_type": "code",
      "source": [
        "def getTPMarrays(geneName): \n",
        "  recur = readtpmT[:28][geneName]\n",
        "  nonrecur = readtpmT[28:][geneName]\n",
        "  return nonrecur, recur"
      ],
      "metadata": {
        "id": "Tze8KgHv5VWr"
      },
      "execution_count": null,
      "outputs": []
    },
    {
      "cell_type": "code",
      "source": [
        "# to make violin plot for TPM counts of a certain between recurrent and nonrecurrent cancer samples for a \n",
        "def violin(nonrecur, recur, name): \n",
        "  top = pd.DataFrame({'Nonrecurrent': nonrecur, 'Recurrent':recur })\n",
        "  sns.violinplot(data=top)\n",
        "  plt.xlabel(\"Breast Cancer Type\")\n",
        "  plt.ylabel(\"TPM\")\n",
        "  plt.title(f\"TPM values for {name}\\n(PNAS dataset)\")"
      ],
      "metadata": {
        "id": "1SJedMAXNTKs"
      },
      "execution_count": null,
      "outputs": []
    },
    {
      "cell_type": "code",
      "source": [
        "r, n = getTPMarrays('ENSG00000279198')\n",
        "violin(r,n,'ENSG00000279198')"
      ],
      "metadata": {
        "colab": {
          "base_uri": "https://localhost:8080/",
          "height": 310
        },
        "id": "JdPsuhoAN9mp",
        "outputId": "efb779f6-c457-4f40-a2c1-530288e85831"
      },
      "execution_count": null,
      "outputs": [
        {
          "output_type": "display_data",
          "data": {
            "text/plain": [
              "<Figure size 432x288 with 1 Axes>"
            ],
            "image/png": "[encoded data removed]"
          },
          "metadata": {
            "needs_background": "light"
          }
        }
      ]
    },
    {
      "cell_type": "code",
      "source": [
        "kctd12r, kctd12n = getTPMarrays('ENSG00000178695')\n",
        "violin(kctd12r, kctd12n,'ENSG00000178695')"
      ],
      "metadata": {
        "colab": {
          "base_uri": "https://localhost:8080/",
          "height": 310
        },
        "id": "eviqeF19lcmS",
        "outputId": "413a7b9f-d763-404a-f0de-aaeea25a084d"
      },
      "execution_count": null,
      "outputs": [
        {
          "output_type": "display_data",
          "data": {
            "text/plain": [
              "<Figure size 432x288 with 1 Axes>"
            ],
            "image/png": "[encoded data removed]"
          },
          "metadata": {
            "needs_background": "light"
          }
        }
      ]
    },
    {
      "cell_type": "code",
      "source": [
        "def getMeans(array): \n",
        "  countsRecur = 0\n",
        "  for i in array:\n",
        "    if (i != 0): \n",
        "      countsRecur += 1 \n",
        "  return sum(array)/countsRecur"
      ],
      "metadata": {
        "id": "AwueXf1lRMeX"
      },
      "execution_count": null,
      "outputs": []
    },
    {
      "cell_type": "code",
      "source": [
        "id4n, id4r = getTPMarrays('ENSG00000172201')"
      ],
      "metadata": {
        "id": "c5FygifUMftR"
      },
      "execution_count": null,
      "outputs": []
    },
    {
      "cell_type": "code",
      "source": [
        "violin(id4n,id4r, \"ID4\")"
      ],
      "metadata": {
        "colab": {
          "base_uri": "https://localhost:8080/",
          "height": 310
        },
        "id": "MMAKLGWNNnkX",
        "outputId": "712cb151-ca6b-4246-951c-769d17c2ee29"
      },
      "execution_count": null,
      "outputs": [
        {
          "output_type": "display_data",
          "data": {
            "text/plain": [
              "<Figure size 432x288 with 1 Axes>"
            ],
            "image/png": "[encoded data removed]"
          },
          "metadata": {
            "needs_background": "light"
          }
        }
      ]
    },
    {
      "cell_type": "code",
      "source": [
        "anxn, anxr = getTPMarrays('ENSG00000164111')"
      ],
      "metadata": {
        "id": "-O13f-7JPelk"
      },
      "execution_count": null,
      "outputs": []
    },
    {
      "cell_type": "code",
      "source": [
        "violin(anxn,anxr, 'ANXA5')"
      ],
      "metadata": {
        "colab": {
          "base_uri": "https://localhost:8080/",
          "height": 310
        },
        "id": "N7GyWYZLPvZf",
        "outputId": "26e61c7c-ea83-4287-b8fc-16ea59562bc7"
      },
      "execution_count": null,
      "outputs": [
        {
          "output_type": "display_data",
          "data": {
            "text/plain": [
              "<Figure size 432x288 with 1 Axes>"
            ],
            "image/png": "[encoded data removed]"
          },
          "metadata": {
            "needs_background": "light"
          }
        }
      ]
    },
    {
      "cell_type": "code",
      "source": [
        "pipn, pipr = getTPMarrays('ENSG00000259657')\n",
        "violin(pipn,pipr, 'PIPGHP1')"
      ],
      "metadata": {
        "colab": {
          "base_uri": "https://localhost:8080/",
          "height": 310
        },
        "id": "iq8MpYI-QLA3",
        "outputId": "9234a359-67bd-47d1-ec54-80be34c048c5"
      },
      "execution_count": null,
      "outputs": [
        {
          "output_type": "display_data",
          "data": {
            "text/plain": [
              "<Figure size 432x288 with 1 Axes>"
            ],
            "image/png": "[encoded data removed]"
          },
          "metadata": {
            "needs_background": "light"
          }
        }
      ]
    },
    {
      "cell_type": "code",
      "source": [
        "pipn, pipr = getTPMarrays('ENSG00000277692')\n",
        "violin(pipn,pipr, 'ENSG00000277692')"
      ],
      "metadata": {
        "colab": {
          "base_uri": "https://localhost:8080/",
          "height": 310
        },
        "id": "MBtVyIEtRCLI",
        "outputId": "6bb3c3e7-cc4f-4c72-93a4-f4c0f0dd0a6c"
      },
      "execution_count": null,
      "outputs": [
        {
          "output_type": "display_data",
          "data": {
            "text/plain": [
              "<Figure size 432x288 with 1 Axes>"
            ],
            "image/png": "[encoded data removed]"
          },
          "metadata": {
            "needs_background": "light"
          }
        }
      ]
    },
    {
      "cell_type": "code",
      "source": [
        "recurVals = readtpmT[:28]['ENSG00000279198']\n",
        "countsRecur = 0\n",
        "for i in recurVals: \n",
        "  if (i != 0): \n",
        "    countsRecur += 1 \n",
        "sum(recurVals)/countsRecur"
      ],
      "metadata": {
        "colab": {
          "base_uri": "https://localhost:8080/"
        },
        "id": "mZK1jkiGREU-",
        "outputId": "c43a655c-f1c3-421a-b5ca-fa09d5d3d055"
      },
      "execution_count": null,
      "outputs": [
        {
          "output_type": "execute_result",
          "data": {
            "text/plain": [
              "16.917798626817692"
            ]
          },
          "metadata": {},
          "execution_count": 53
        }
      ]
    },
    {
      "cell_type": "code",
      "source": [
        "vals = readtpmT[28:]['ENSG00000279198']\n",
        "counts = 0\n",
        "for i in vals: \n",
        "  if (i != 0): \n",
        "    counts += 1 \n",
        "sum(vals)/counts"
      ],
      "metadata": {
        "colab": {
          "base_uri": "https://localhost:8080/"
        },
        "id": "8J7anc1fRbhQ",
        "outputId": "895fdee6-31ba-46a8-c93b-1db443dc8507"
      },
      "execution_count": null,
      "outputs": [
        {
          "output_type": "execute_result",
          "data": {
            "text/plain": [
              "7.830799545967079"
            ]
          },
          "metadata": {},
          "execution_count": 54
        }
      ]
    },
    {
      "cell_type": "code",
      "source": [
        "top = pd.DataFrame({'Nonrecurrent': vals, 'Recurrent':recurVals })"
      ],
      "metadata": {
        "id": "ua611kKZvVuX"
      },
      "execution_count": null,
      "outputs": []
    },
    {
      "cell_type": "code",
      "source": [
        "sns.violinplot(data=top)\n",
        "plt.xlabel(\"Breast Cancer Type\")\n",
        "plt.ylabel(\"TPM\")\n",
        "plt.title(\"TPM values for ENSG00000279198\\n(PNAS dataset)\")"
      ],
      "metadata": {
        "colab": {
          "base_uri": "https://localhost:8080/",
          "height": 328
        },
        "id": "LfQ4Fj0CdBZk",
        "outputId": "ae21a010-4ab5-45ba-8622-64dd8d27c988"
      },
      "execution_count": null,
      "outputs": [
        {
          "output_type": "execute_result",
          "data": {
            "text/plain": [
              "Text(0.5, 1.0, 'TPM values for ENSG00000279198\\n(PNAS dataset)')"
            ]
          },
          "metadata": {},
          "execution_count": 56
        },
        {
          "output_type": "display_data",
          "data": {
            "text/plain": [
              "<Figure size 432x288 with 1 Axes>"
            ],
            "image/png": "[encoded data removed]"
          },
          "metadata": {
            "needs_background": "light"
          }
        }
      ]
    },
    {
      "cell_type": "code",
      "source": [
        "16.917798626817692/7.830799545967079"
      ],
      "metadata": {
        "id": "IJ1yL3i4VST0",
        "colab": {
          "base_uri": "https://localhost:8080/"
        },
        "outputId": "a5a8bab6-1a1d-40cb-fff8-f37b336f9365"
      },
      "execution_count": null,
      "outputs": [
        {
          "output_type": "execute_result",
          "data": {
            "text/plain": [
              "2.1604177871633152"
            ]
          },
          "metadata": {},
          "execution_count": 57
        }
      ]
    },
    {
      "cell_type": "code",
      "source": [
        "# research these genes to find their role in cancer recurrence\n",
        "names = selector.get_feature_names_out()\n",
        "names"
      ],
      "metadata": {
        "id": "-HeeiJo9Xhlp",
        "colab": {
          "base_uri": "https://localhost:8080/"
        },
        "outputId": "ac37e9cb-2b27-4cd1-d202-e765cf7071ac"
      },
      "execution_count": null,
      "outputs": [
        {
          "output_type": "execute_result",
          "data": {
            "text/plain": [
              "array(['ENSG00000005020', 'ENSG00000116337', 'ENSG00000164111',\n",
              "       'ENSG00000172201', 'ENSG00000178695', 'ENSG00000233337',\n",
              "       'ENSG00000259657', 'ENSG00000269931', 'ENSG00000277692',\n",
              "       'ENSG00000279198'], dtype=object)"
            ]
          },
          "metadata": {},
          "execution_count": 58
        }
      ]
    },
    {
      "cell_type": "code",
      "source": [
        "# cross validation of the best classifier so far \n",
        "bestFeats = selector.fit_transform(readtpmT,recurstatus)\n",
        "bestScore = cross_val_score(rf, bestFeats, recurstatus,cv=3)\n",
        "bestPreds = cross_val_predict(rf, bestFeats, recurstatus,cv=3)"
      ],
      "metadata": {
        "id": "eZbZM8koYuOo",
        "colab": {
          "base_uri": "https://localhost:8080/"
        },
        "outputId": "cdd9cb6c-9234-4fbb-b63d-8041b65bc884"
      },
      "execution_count": null,
      "outputs": [
        {
          "output_type": "stream",
          "name": "stderr",
          "text": [
            "/usr/local/lib/python3.7/dist-packages/sklearn/feature_selection/_univariate_selection.py:112: UserWarning: Features [  277   362  1970 ... 60659 60665 60668] are constant.\n",
            "  warnings.warn(\"Features %s are constant.\" % constant_features_idx, UserWarning)\n",
            "/usr/local/lib/python3.7/dist-packages/sklearn/feature_selection/_univariate_selection.py:113: RuntimeWarning: invalid value encountered in true_divide\n",
            "  f = msb / msw\n"
          ]
        }
      ]
    },
    {
      "cell_type": "code",
      "source": [
        "bestScore"
      ],
      "metadata": {
        "id": "vbLwq8HNZbEM",
        "colab": {
          "base_uri": "https://localhost:8080/"
        },
        "outputId": "c758b9d9-73de-4857-b579-7bf5e6dad133"
      },
      "execution_count": null,
      "outputs": [
        {
          "output_type": "execute_result",
          "data": {
            "text/plain": [
              "array([0.90625, 0.90625, 0.84375])"
            ]
          },
          "metadata": {},
          "execution_count": 60
        }
      ]
    },
    {
      "cell_type": "code",
      "source": [
        "bestPreds"
      ],
      "metadata": {
        "id": "emLWoM9tZd3F",
        "colab": {
          "base_uri": "https://localhost:8080/"
        },
        "outputId": "1bd102e4-62e4-4b22-f2e0-766bb4a9ebca"
      },
      "execution_count": null,
      "outputs": [
        {
          "output_type": "execute_result",
          "data": {
            "text/plain": [
              "array([1, 1, 0, 1, 1, 1, 1, 1, 0, 0, 1, 0, 0, 1, 1, 1, 1, 1, 1, 0, 1, 0,\n",
              "       1, 1, 1, 0, 1, 1, 0, 0, 0, 0, 0, 0, 0, 0, 0, 0, 0, 0, 0, 0, 0, 0,\n",
              "       0, 0, 0, 0, 0, 0, 0, 0, 0, 0, 0, 0, 0, 0, 0, 0, 0, 0, 0, 0, 0, 0,\n",
              "       0, 0, 0, 0, 0, 0, 0, 0, 0, 0, 0, 0, 0, 0, 0, 0, 0, 0, 0, 0, 0, 0,\n",
              "       0, 0, 0, 0, 0, 0, 0, 0])"
            ]
          },
          "metadata": {},
          "execution_count": 61
        }
      ]
    },
    {
      "cell_type": "code",
      "source": [
        "# recreate this classifier with the whole dataset\n",
        "bestClf = RandomForestClassifier().fit(bestFeats, recurstatus)\n",
        "trainingScore = bestClf.score(bestFeats, recurstatus)\n",
        "trainingScore"
      ],
      "metadata": {
        "id": "Sl8IaiHOifSm",
        "colab": {
          "base_uri": "https://localhost:8080/"
        },
        "outputId": "e20b46c6-a6e7-472e-93a3-5c9806d6fe21"
      },
      "execution_count": null,
      "outputs": [
        {
          "output_type": "execute_result",
          "data": {
            "text/plain": [
              "1.0"
            ]
          },
          "metadata": {},
          "execution_count": 62
        }
      ]
    },
    {
      "cell_type": "code",
      "source": [
        "# preprocessing the validation dataset for use with the classifier\n",
        "valrecurstatus = validcancer[\"Recurrence Staus at the time of collection\"].to_numpy()\n",
        "mapIDs = validcancer['Mapping ID'].to_numpy()"
      ],
      "metadata": {
        "id": "AVrgYBtLa6f4"
      },
      "execution_count": null,
      "outputs": []
    },
    {
      "cell_type": "code",
      "source": [
        "valrecurY = [0 if i == \"Nonrecurrent\" else 1 for i in valrecurstatus]"
      ],
      "metadata": {
        "id": "G0wgMwwzjnhs"
      },
      "execution_count": null,
      "outputs": []
    },
    {
      "cell_type": "code",
      "source": [
        "canvaltpm = validtpm.copy(deep=True)"
      ],
      "metadata": {
        "id": "mt9T_baSfWAV"
      },
      "execution_count": null,
      "outputs": []
    },
    {
      "cell_type": "code",
      "source": [
        "for i in canvaltpm.columns: \n",
        "  if i in mapIDs: \n",
        "    continue\n",
        "  else: \n",
        "    canvaltpm.drop(labels = [i], axis=1, inplace=True)"
      ],
      "metadata": {
        "id": "Bh5Yz38fgAya"
      },
      "execution_count": null,
      "outputs": []
    },
    {
      "cell_type": "code",
      "source": [
        "canvaltpmT = canvaltpm.T"
      ],
      "metadata": {
        "id": "Q244YcxIiJfK"
      },
      "execution_count": null,
      "outputs": []
    },
    {
      "cell_type": "code",
      "source": [
        "canvalBestFeats = canvaltpmT[names]"
      ],
      "metadata": {
        "id": "um8apyj9iYf6"
      },
      "execution_count": null,
      "outputs": []
    },
    {
      "cell_type": "code",
      "source": [
        "canvalBestFeats"
      ],
      "metadata": {
        "id": "0yRkGc7ckxPV",
        "colab": {
          "base_uri": "https://localhost:8080/",
          "height": 423
        },
        "outputId": "8e5154f9-df2f-46ae-c682-767fc005f213"
      },
      "execution_count": null,
      "outputs": [
        {
          "output_type": "execute_result",
          "data": {
            "text/plain": [
              "            ENSG00000005020  ENSG00000116337  ENSG00000164111  \\\n",
              "BCSC_S5_40        20.466541        14.010625         8.593021   \n",
              "BCSC_S5_41        22.611085        11.759791        14.692202   \n",
              "BCSC_S5_42        19.354955        11.744030        22.008766   \n",
              "BCSC_S5_43         8.748092         1.769363        27.853185   \n",
              "BCSC_S5_44        21.138382         6.840620         7.691751   \n",
              "...                     ...              ...              ...   \n",
              "BCSC_S6_70        17.909702         5.268893        23.697862   \n",
              "BCSC_S6_71        15.689277         4.231023        28.544763   \n",
              "BCSC_S6_72        24.914659         2.519583        28.330776   \n",
              "BCSC_S6_73        21.654556         8.759574        23.638724   \n",
              "BCSC_S6_74        33.558733        10.859986        24.422440   \n",
              "\n",
              "            ENSG00000172201  ENSG00000178695  ENSG00000233337  \\\n",
              "BCSC_S5_40        14.830048        11.168396         0.000000   \n",
              "BCSC_S5_41        11.410275        22.914642        17.013794   \n",
              "BCSC_S5_42        28.487455         8.581474         0.000000   \n",
              "BCSC_S5_43        30.901961        11.636016        46.077734   \n",
              "BCSC_S5_44        14.933942        14.995517         0.000000   \n",
              "...                     ...              ...              ...   \n",
              "BCSC_S6_70        15.336884        14.437613        17.151554   \n",
              "BCSC_S6_71        12.315815        13.912419         0.000000   \n",
              "BCSC_S6_72        18.335234        15.188937         0.000000   \n",
              "BCSC_S6_73        25.497685        19.202112         0.000000   \n",
              "BCSC_S6_74        15.805820        15.870990         0.000000   \n",
              "\n",
              "            ENSG00000259657  ENSG00000269931  ENSG00000277692  ENSG00000279198  \n",
              "BCSC_S5_40        15.381254         0.000000         0.000000         0.000000  \n",
              "BCSC_S5_41         0.000000        19.658717         0.000000         2.873100  \n",
              "BCSC_S5_42         0.000000         0.000000        19.581993         0.000000  \n",
              "BCSC_S5_43        64.101060        39.930649        53.104250         0.000000  \n",
              "BCSC_S5_44         0.000000         0.000000        85.545358        30.082853  \n",
              "...                     ...              ...              ...              ...  \n",
              "BCSC_S6_70        15.906928         0.000000        26.356053        11.585452  \n",
              "BCSC_S6_71         0.000000        31.828302         0.000000         6.202228  \n",
              "BCSC_S6_72         0.000000         9.476910        12.603457        22.160638  \n",
              "BCSC_S6_73        21.156310        52.715832         0.000000        19.260901  \n",
              "BCSC_S6_74         0.000000         0.000000         0.000000        23.879369  \n",
              "\n",
              "[83 rows x 10 columns]"
            ],
            "text/html": [
              "\n",
              "  <div id=\"df-2cb6f9c4-a40f-4213-ad43-c3e8741fec15\">\n",
              "    <div class=\"colab-df-container\">\n",
              "      <div>\n",
              "<style scoped>\n",
              "    .dataframe tbody tr th:only-of-type {\n",
              "        vertical-align: middle;\n",
              "    }\n",
              "\n",
              "    .dataframe tbody tr th {\n",
              "        vertical-align: top;\n",
              "    }\n",
              "\n",
              "    .dataframe thead th {\n",
              "        text-align: right;\n",
              "    }\n",
              "</style>\n",
              "<table border=\"1\" class=\"dataframe\">\n",
              "  <thead>\n",
              "    <tr style=\"text-align: right;\">\n",
              "      <th></th>\n",
              "      <th>ENSG00000005020</th>\n",
              "      <th>ENSG00000116337</th>\n",
              "      <th>ENSG00000164111</th>\n",
              "      <th>ENSG00000172201</th>\n",
              "      <th>ENSG00000178695</th>\n",
              "      <th>ENSG00000233337</th>\n",
              "      <th>ENSG00000259657</th>\n",
              "      <th>ENSG00000269931</th>\n",
              "      <th>ENSG00000277692</th>\n",
              "      <th>ENSG00000279198</th>\n",
              "    </tr>\n",
              "  </thead>\n",
              "  <tbody>\n",
              "    <tr>\n",
              "      <th>BCSC_S5_40</th>\n",
              "      <td>20.466541</td>\n",
              "      <td>14.010625</td>\n",
              "      <td>8.593021</td>\n",
              "      <td>14.830048</td>\n",
              "      <td>11.168396</td>\n",
              "      <td>0.000000</td>\n",
              "      <td>15.381254</td>\n",
              "      <td>0.000000</td>\n",
              "      <td>0.000000</td>\n",
              "      <td>0.000000</td>\n",
              "    </tr>\n",
              "    <tr>\n",
              "      <th>BCSC_S5_41</th>\n",
              "      <td>22.611085</td>\n",
              "      <td>11.759791</td>\n",
              "      <td>14.692202</td>\n",
              "      <td>11.410275</td>\n",
              "      <td>22.914642</td>\n",
              "      <td>17.013794</td>\n",
              "      <td>0.000000</td>\n",
              "      <td>19.658717</td>\n",
              "      <td>0.000000</td>\n",
              "      <td>2.873100</td>\n",
              "    </tr>\n",
              "    <tr>\n",
              "      <th>BCSC_S5_42</th>\n",
              "      <td>19.354955</td>\n",
              "      <td>11.744030</td>\n",
              "      <td>22.008766</td>\n",
              "      <td>28.487455</td>\n",
              "      <td>8.581474</td>\n",
              "      <td>0.000000</td>\n",
              "      <td>0.000000</td>\n",
              "      <td>0.000000</td>\n",
              "      <td>19.581993</td>\n",
              "      <td>0.000000</td>\n",
              "    </tr>\n",
              "    <tr>\n",
              "      <th>BCSC_S5_43</th>\n",
              "      <td>8.748092</td>\n",
              "      <td>1.769363</td>\n",
              "      <td>27.853185</td>\n",
              "      <td>30.901961</td>\n",
              "      <td>11.636016</td>\n",
              "      <td>46.077734</td>\n",
              "      <td>64.101060</td>\n",
              "      <td>39.930649</td>\n",
              "      <td>53.104250</td>\n",
              "      <td>0.000000</td>\n",
              "    </tr>\n",
              "    <tr>\n",
              "      <th>BCSC_S5_44</th>\n",
              "      <td>21.138382</td>\n",
              "      <td>6.840620</td>\n",
              "      <td>7.691751</td>\n",
              "      <td>14.933942</td>\n",
              "      <td>14.995517</td>\n",
              "      <td>0.000000</td>\n",
              "      <td>0.000000</td>\n",
              "      <td>0.000000</td>\n",
              "      <td>85.545358</td>\n",
              "      <td>30.082853</td>\n",
              "    </tr>\n",
              "    <tr>\n",
              "      <th>...</th>\n",
              "      <td>...</td>\n",
              "      <td>...</td>\n",
              "      <td>...</td>\n",
              "      <td>...</td>\n",
              "      <td>...</td>\n",
              "      <td>...</td>\n",
              "      <td>...</td>\n",
              "      <td>...</td>\n",
              "      <td>...</td>\n",
              "      <td>...</td>\n",
              "    </tr>\n",
              "    <tr>\n",
              "      <th>BCSC_S6_70</th>\n",
              "      <td>17.909702</td>\n",
              "      <td>5.268893</td>\n",
              "      <td>23.697862</td>\n",
              "      <td>15.336884</td>\n",
              "      <td>14.437613</td>\n",
              "      <td>17.151554</td>\n",
              "      <td>15.906928</td>\n",
              "      <td>0.000000</td>\n",
              "      <td>26.356053</td>\n",
              "      <td>11.585452</td>\n",
              "    </tr>\n",
              "    <tr>\n",
              "      <th>BCSC_S6_71</th>\n",
              "      <td>15.689277</td>\n",
              "      <td>4.231023</td>\n",
              "      <td>28.544763</td>\n",
              "      <td>12.315815</td>\n",
              "      <td>13.912419</td>\n",
              "      <td>0.000000</td>\n",
              "      <td>0.000000</td>\n",
              "      <td>31.828302</td>\n",
              "      <td>0.000000</td>\n",
              "      <td>6.202228</td>\n",
              "    </tr>\n",
              "    <tr>\n",
              "      <th>BCSC_S6_72</th>\n",
              "      <td>24.914659</td>\n",
              "      <td>2.519583</td>\n",
              "      <td>28.330776</td>\n",
              "      <td>18.335234</td>\n",
              "      <td>15.188937</td>\n",
              "      <td>0.000000</td>\n",
              "      <td>0.000000</td>\n",
              "      <td>9.476910</td>\n",
              "      <td>12.603457</td>\n",
              "      <td>22.160638</td>\n",
              "    </tr>\n",
              "    <tr>\n",
              "      <th>BCSC_S6_73</th>\n",
              "      <td>21.654556</td>\n",
              "      <td>8.759574</td>\n",
              "      <td>23.638724</td>\n",
              "      <td>25.497685</td>\n",
              "      <td>19.202112</td>\n",
              "      <td>0.000000</td>\n",
              "      <td>21.156310</td>\n",
              "      <td>52.715832</td>\n",
              "      <td>0.000000</td>\n",
              "      <td>19.260901</td>\n",
              "    </tr>\n",
              "    <tr>\n",
              "      <th>BCSC_S6_74</th>\n",
              "      <td>33.558733</td>\n",
              "      <td>10.859986</td>\n",
              "      <td>24.422440</td>\n",
              "      <td>15.805820</td>\n",
              "      <td>15.870990</td>\n",
              "      <td>0.000000</td>\n",
              "      <td>0.000000</td>\n",
              "      <td>0.000000</td>\n",
              "      <td>0.000000</td>\n",
              "      <td>23.879369</td>\n",
              "    </tr>\n",
              "  </tbody>\n",
              "</table>\n",
              "<p>83 rows × 10 columns</p>\n",
              "</div>\n",
              "      <button class=\"colab-df-convert\" onclick=\"convertToInteractive('df-2cb6f9c4-a40f-4213-ad43-c3e8741fec15')\"\n",
              "              title=\"Convert this dataframe to an interactive table.\"\n",
              "              style=\"display:none;\">\n",
              "        \n",
              "  <svg xmlns=\"http://www.w3.org/2000/svg\" height=\"24px\"viewBox=\"0 0 24 24\"\n",
              "       width=\"24px\">\n",
              "    <path d=\"M0 0h24v24H0V0z\" fill=\"none\"/>\n",
              "    <path d=\"M18.56 5.44l.94 2.06.94-2.06 2.06-.94-2.06-.94-.94-2.06-.94 2.06-2.06.94zm-11 1L8.5 8.5l.94-2.06 2.06-.94-2.06-.94L8.5 2.5l-.94 2.06-2.06.94zm10 10l.94 2.06.94-2.06 2.06-.94-2.06-.94-.94-2.06-.94 2.06-2.06.94z\"/><path d=\"M17.41 7.96l-1.37-1.37c-.4-.4-.92-.59-1.43-.59-.52 0-1.04.2-1.43.59L10.3 9.45l-7.72 7.72c-.78.78-.78 2.05 0 2.83L4 21.41c.39.39.9.59 1.41.59.51 0 1.02-.2 1.41-.59l7.78-7.78 2.81-2.81c.8-.78.8-2.07 0-2.86zM5.41 20L4 18.59l7.72-7.72 1.47 1.35L5.41 20z\"/>\n",
              "  </svg>\n",
              "      </button>\n",
              "      \n",
              "  <style>\n",
              "    .colab-df-container {\n",
              "      display:flex;\n",
              "      flex-wrap:wrap;\n",
              "      gap: 12px;\n",
              "    }\n",
              "\n",
              "    .colab-df-convert {\n",
              "      background-color: #E8F0FE;\n",
              "      border: none;\n",
              "      border-radius: 50%;\n",
              "      cursor: pointer;\n",
              "      display: none;\n",
              "      fill: #1967D2;\n",
              "      height: 32px;\n",
              "      padding: 0 0 0 0;\n",
              "      width: 32px;\n",
              "    }\n",
              "\n",
              "    .colab-df-convert:hover {\n",
              "      background-color: #E2EBFA;\n",
              "      box-shadow: 0px 1px 2px rgba(60, 64, 67, 0.3), 0px 1px 3px 1px rgba(60, 64, 67, 0.15);\n",
              "      fill: #174EA6;\n",
              "    }\n",
              "\n",
              "    [theme=dark] .colab-df-convert {\n",
              "      background-color: #3B4455;\n",
              "      fill: #D2E3FC;\n",
              "    }\n",
              "\n",
              "    [theme=dark] .colab-df-convert:hover {\n",
              "      background-color: #434B5C;\n",
              "      box-shadow: 0px 1px 3px 1px rgba(0, 0, 0, 0.15);\n",
              "      filter: drop-shadow(0px 1px 2px rgba(0, 0, 0, 0.3));\n",
              "      fill: #FFFFFF;\n",
              "    }\n",
              "  </style>\n",
              "\n",
              "      <script>\n",
              "        const buttonEl =\n",
              "          document.querySelector('#df-2cb6f9c4-a40f-4213-ad43-c3e8741fec15 button.colab-df-convert');\n",
              "        buttonEl.style.display =\n",
              "          google.colab.kernel.accessAllowed ? 'block' : 'none';\n",
              "\n",
              "        async function convertToInteractive(key) {\n",
              "          const element = document.querySelector('#df-2cb6f9c4-a40f-4213-ad43-c3e8741fec15');\n",
              "          const dataTable =\n",
              "            await google.colab.kernel.invokeFunction('convertToInteractive',\n",
              "                                                     [key], {});\n",
              "          if (!dataTable) return;\n",
              "\n",
              "          const docLinkHtml = 'Like what you see? Visit the ' +\n",
              "            '<a target=\"_blank\" href=https://colab.research.google.com/notebooks/data_table.ipynb>data table notebook</a>'\n",
              "            + ' to learn more about interactive tables.';\n",
              "          element.innerHTML = '';\n",
              "          dataTable['output_type'] = 'display_data';\n",
              "          await google.colab.output.renderOutput(dataTable, element);\n",
              "          const docLink = document.createElement('div');\n",
              "          docLink.innerHTML = docLinkHtml;\n",
              "          element.appendChild(docLink);\n",
              "        }\n",
              "      </script>\n",
              "    </div>\n",
              "  </div>\n",
              "  "
            ]
          },
          "metadata": {},
          "execution_count": 69
        }
      ]
    },
    {
      "cell_type": "code",
      "source": [
        "# results of this classifier: very poor, balanced accuracy rate of 52% \n",
        "valScore = bestClf.score(canvalBestFeats,valrecurY)\n",
        "valPreds = bestClf.predict(canvalBestFeats)"
      ],
      "metadata": {
        "id": "uMVPi3NTmLyW",
        "colab": {
          "base_uri": "https://localhost:8080/"
        },
        "outputId": "a51f5606-7bbf-40a4-f642-dcd972df20b2"
      },
      "execution_count": null,
      "outputs": [
        {
          "output_type": "stream",
          "name": "stderr",
          "text": [
            "/usr/local/lib/python3.7/dist-packages/sklearn/base.py:444: UserWarning: X has feature names, but RandomForestClassifier was fitted without feature names\n",
            "  f\"X has feature names, but {self.__class__.__name__} was fitted without\"\n",
            "/usr/local/lib/python3.7/dist-packages/sklearn/base.py:444: UserWarning: X has feature names, but RandomForestClassifier was fitted without feature names\n",
            "  f\"X has feature names, but {self.__class__.__name__} was fitted without\"\n"
          ]
        }
      ]
    },
    {
      "cell_type": "code",
      "source": [
        "precision_score(valrecurY, valPreds)"
      ],
      "metadata": {
        "id": "fR07Vtmem60E",
        "colab": {
          "base_uri": "https://localhost:8080/"
        },
        "outputId": "848c0aa6-ac91-4d19-a568-dde86d40ee3f"
      },
      "execution_count": null,
      "outputs": [
        {
          "output_type": "execute_result",
          "data": {
            "text/plain": [
              "0.07692307692307693"
            ]
          },
          "metadata": {},
          "execution_count": 71
        }
      ]
    },
    {
      "cell_type": "code",
      "source": [
        "balanced_accuracy_score(valrecurY, valPreds)"
      ],
      "metadata": {
        "id": "YS4VXqQJolqV",
        "colab": {
          "base_uri": "https://localhost:8080/"
        },
        "outputId": "57b7aa40-9d73-4e70-b12c-8d2099c1e8d1"
      },
      "execution_count": null,
      "outputs": [
        {
          "output_type": "execute_result",
          "data": {
            "text/plain": [
              "0.4825"
            ]
          },
          "metadata": {},
          "execution_count": 72
        }
      ]
    },
    {
      "cell_type": "code",
      "source": [
        "names"
      ],
      "metadata": {
        "id": "DlCxu_bKriTD",
        "colab": {
          "base_uri": "https://localhost:8080/"
        },
        "outputId": "912f9bcd-9b19-4d03-b647-52868b7e9f53"
      },
      "execution_count": null,
      "outputs": [
        {
          "output_type": "execute_result",
          "data": {
            "text/plain": [
              "array(['ENSG00000005020', 'ENSG00000116337', 'ENSG00000164111',\n",
              "       'ENSG00000172201', 'ENSG00000178695', 'ENSG00000233337',\n",
              "       'ENSG00000259657', 'ENSG00000269931', 'ENSG00000277692',\n",
              "       'ENSG00000279198'], dtype=object)"
            ]
          },
          "metadata": {},
          "execution_count": 73
        }
      ]
    },
    {
      "cell_type": "code",
      "source": [
        "rfbal = RandomForestClassifier(class_weight='balanced')\n",
        "rfnorm = RandomForestClassifier()"
      ],
      "metadata": {
        "id": "0h3T2eo13XEw"
      },
      "execution_count": null,
      "outputs": []
    },
    {
      "cell_type": "code",
      "source": [
        "def testFeatures(featMatrix,featNames, y_train, cls, x_test, y_test, reps):\n",
        "  preds = {}\n",
        "  scores = {}\n",
        "  roc_arrays = {}\n",
        "  for i, j in zip(featMatrix, featNames):\n",
        "    acc = 0\n",
        "    ba = 0\n",
        "    roc = 0\n",
        "    roc_inner = []\n",
        "    for x in range(0,reps):\n",
        "      size = len(i[0])\n",
        "      x_test2 = x_test[j]\n",
        "      fitcls = cls.fit(i,y_train)\n",
        "      p = fitcls.predict(x_test2)\n",
        "      y_score = fitcls.predict_proba(x_test2)[:,1]\n",
        "      fpr, tpr, thresholds = roc_curve(y_test, y_score)\n",
        "      roc_inner.append([fpr, tpr])\n",
        "      acc += fitcls.score(x_test2, y_test)\n",
        "      ba += balanced_accuracy_score(y_test, p)\n",
        "      roc += roc_auc_score(y_test, y_score)\n",
        "      preds[size] = p\n",
        "    \n",
        "    scores[size] = {\"Accuracy\": acc/reps, \"Balanced Accuracy\": ba/reps, \"ROC\": roc/reps}\n",
        "    roc_arrays[size] = roc_inner\n",
        "\n",
        "  return preds, scores, roc_arrays"
      ],
      "metadata": {
        "id": "UU8MJMpYyXLO"
      },
      "execution_count": null,
      "outputs": []
    },
    {
      "cell_type": "code",
      "source": [
        "bestpreds, bestscores, bestROC = testFeatures(featureArray,namesRecur, recurstatus, rfbal, canvaltpmT, valrecurY, 5)"
      ],
      "metadata": {
        "id": "QE-UmDmX2-1d"
      },
      "execution_count": null,
      "outputs": []
    },
    {
      "cell_type": "code",
      "source": [
        "bestscores"
      ],
      "metadata": {
        "id": "PC1rFDBNreyd",
        "colab": {
          "base_uri": "https://localhost:8080/"
        },
        "outputId": "cb0fabb7-94cf-4e08-f405-c40686706df2"
      },
      "execution_count": null,
      "outputs": [
        {
          "output_type": "execute_result",
          "data": {
            "text/plain": [
              "{5: {'Accuracy': 0.7397590361445783,\n",
              "  'Balanced Accuracy': 0.6214999999999999,\n",
              "  'ROC': 0.5451666666666667},\n",
              " 10: {'Accuracy': 0.7855421686746988,\n",
              "  'Balanced Accuracy': 0.5463333333333333,\n",
              "  'ROC': 0.6785},\n",
              " 25: {'Accuracy': 0.8433734939759037,\n",
              "  'Balanced Accuracy': 0.5001666666666666,\n",
              "  'ROC': 0.6035000000000001},\n",
              " 50: {'Accuracy': 0.8722891566265061,\n",
              "  'Balanced Accuracy': 0.48266666666666663,\n",
              "  'ROC': 0.6001666666666666},\n",
              " 100: {'Accuracy': 0.9012048192771085,\n",
              "  'Balanced Accuracy': 0.49866666666666665,\n",
              "  'ROC': 0.541},\n",
              " 200: {'Accuracy': 0.9036144578313253,\n",
              "  'Balanced Accuracy': 0.5,\n",
              "  'ROC': 0.5181666666666667},\n",
              " 500: {'Accuracy': 0.9012048192771085,\n",
              "  'Balanced Accuracy': 0.49866666666666665,\n",
              "  'ROC': 0.5283333333333333},\n",
              " 1000: {'Accuracy': 0.9036144578313253,\n",
              "  'Balanced Accuracy': 0.5,\n",
              "  'ROC': 0.4713333333333334},\n",
              " 5000: {'Accuracy': 0.9036144578313253,\n",
              "  'Balanced Accuracy': 0.5,\n",
              "  'ROC': 0.5465},\n",
              " 10000: {'Accuracy': 0.9036144578313253,\n",
              "  'Balanced Accuracy': 0.5,\n",
              "  'ROC': 0.4763333333333334},\n",
              " 20000: {'Accuracy': 0.9036144578313253,\n",
              "  'Balanced Accuracy': 0.5,\n",
              "  'ROC': 0.5085000000000001},\n",
              " 30000: {'Accuracy': 0.9036144578313253,\n",
              "  'Balanced Accuracy': 0.5,\n",
              "  'ROC': 0.5395},\n",
              " 60000: {'Accuracy': 0.9036144578313253,\n",
              "  'Balanced Accuracy': 0.5,\n",
              "  'ROC': 0.499}}"
            ]
          },
          "metadata": {},
          "execution_count": 77
        }
      ]
    },
    {
      "cell_type": "code",
      "source": [
        "bestpreds[10]"
      ],
      "metadata": {
        "id": "yO_qYrX2uUUV",
        "colab": {
          "base_uri": "https://localhost:8080/"
        },
        "outputId": "7dc23d25-fd05-4eca-e66d-c855356b271c"
      },
      "execution_count": null,
      "outputs": [
        {
          "output_type": "execute_result",
          "data": {
            "text/plain": [
              "array([0, 0, 0, 0, 0, 0, 0, 0, 0, 0, 1, 0, 0, 0, 0, 0, 0, 0, 1, 0, 0, 0,\n",
              "       0, 0, 0, 0, 0, 0, 0, 0, 0, 0, 1, 0, 0, 1, 1, 0, 1, 0, 1, 0, 1, 0,\n",
              "       0, 0, 0, 0, 1, 0, 0, 0, 0, 0, 0, 1, 0, 0, 0, 0, 0, 0, 0, 0, 0, 0,\n",
              "       0, 0, 0, 1, 1, 0, 1, 0, 0, 0, 0, 1, 0, 0, 0, 1, 1])"
            ]
          },
          "metadata": {},
          "execution_count": 78
        }
      ]
    },
    {
      "cell_type": "code",
      "source": [
        "np.array(valrecurY)"
      ],
      "metadata": {
        "id": "02wTFSxZupNI",
        "colab": {
          "base_uri": "https://localhost:8080/"
        },
        "outputId": "f3491938-ba6e-4983-f269-ecde16f73736"
      },
      "execution_count": null,
      "outputs": [
        {
          "output_type": "execute_result",
          "data": {
            "text/plain": [
              "array([0, 0, 0, 0, 0, 0, 0, 0, 0, 0, 0, 0, 0, 0, 0, 0, 0, 0, 0, 0, 0, 0,\n",
              "       0, 0, 0, 0, 0, 0, 0, 0, 0, 0, 0, 0, 0, 0, 0, 0, 0, 1, 1, 1, 1, 1,\n",
              "       1, 1, 1, 0, 0, 0, 0, 0, 0, 0, 0, 0, 0, 0, 0, 0, 0, 0, 0, 0, 0, 0,\n",
              "       0, 0, 0, 0, 0, 0, 0, 0, 0, 0, 0, 0, 0, 0, 0, 0, 0])"
            ]
          },
          "metadata": {},
          "execution_count": 79
        }
      ]
    },
    {
      "cell_type": "code",
      "source": [
        "def graphROCdict(ROCdict):\n",
        "  for key in ROCdict.keys():\n",
        "    graphROC(ROCdict[key])"
      ],
      "metadata": {
        "id": "zW9LiANXMCqZ"
      },
      "execution_count": null,
      "outputs": []
    },
    {
      "cell_type": "code",
      "source": [
        "bestpreds[50]"
      ],
      "metadata": {
        "id": "9e5S0Cgb1pUp",
        "colab": {
          "base_uri": "https://localhost:8080/"
        },
        "outputId": "fda5e053-8299-47d6-dcce-59b33d577968"
      },
      "execution_count": null,
      "outputs": [
        {
          "output_type": "execute_result",
          "data": {
            "text/plain": [
              "array([0, 0, 0, 0, 0, 0, 0, 0, 0, 0, 0, 0, 0, 0, 0, 0, 0, 0, 1, 0, 0, 0,\n",
              "       0, 0, 0, 0, 0, 0, 0, 0, 0, 0, 0, 0, 0, 0, 0, 0, 0, 0, 0, 0, 0, 0,\n",
              "       0, 0, 0, 0, 0, 0, 0, 0, 0, 0, 0, 0, 0, 0, 0, 0, 0, 0, 0, 0, 0, 0,\n",
              "       0, 0, 0, 0, 0, 0, 0, 0, 0, 0, 0, 0, 1, 0, 0, 0, 1])"
            ]
          },
          "metadata": {},
          "execution_count": 81
        }
      ]
    },
    {
      "cell_type": "code",
      "source": [
        "graphROC(bestROC[25], \"Receiver Operating Characteristic for 25 Genes\\nTested on the Validation Set (5 repeats)\", bestscores[25])"
      ],
      "metadata": {
        "id": "2oHeldPRNmV7",
        "colab": {
          "base_uri": "https://localhost:8080/",
          "height": 328
        },
        "outputId": "b86fad8a-16af-43f9-9c6f-b45909f035ec"
      },
      "execution_count": null,
      "outputs": [
        {
          "output_type": "stream",
          "name": "stdout",
          "text": [
            "5\n"
          ]
        },
        {
          "output_type": "display_data",
          "data": {
            "text/plain": [
              "<Figure size 432x288 with 1 Axes>"
            ],
            "image/png": "[encoded data removed]"
          },
          "metadata": {
            "needs_background": "light"
          }
        }
      ]
    },
    {
      "cell_type": "code",
      "source": [
        "graphROC(bestROC[100], \"Receiver Operating Characteristic for 100 Genes\\nTested on the Validation Set (5 repeats)\", bestscores[100])"
      ],
      "metadata": {
        "id": "jruFFWMDSSe9",
        "colab": {
          "base_uri": "https://localhost:8080/",
          "height": 328
        },
        "outputId": "003129cd-41dc-489c-f681-a1d18c7a78ae"
      },
      "execution_count": null,
      "outputs": [
        {
          "output_type": "stream",
          "name": "stdout",
          "text": [
            "5\n"
          ]
        },
        {
          "output_type": "display_data",
          "data": {
            "text/plain": [
              "<Figure size 432x288 with 1 Axes>"
            ],
            "image/png": "[encoded data removed]"
          },
          "metadata": {
            "needs_background": "light"
          }
        }
      ]
    },
    {
      "cell_type": "code",
      "source": [
        "bestscores"
      ],
      "metadata": {
        "id": "LX0TVNhl4Tp4",
        "colab": {
          "base_uri": "https://localhost:8080/"
        },
        "outputId": "62b4fb9f-88ce-40cd-84fb-0436dd5eab81"
      },
      "execution_count": null,
      "outputs": [
        {
          "output_type": "execute_result",
          "data": {
            "text/plain": [
              "{5: {'Accuracy': 0.7397590361445783,\n",
              "  'Balanced Accuracy': 0.6214999999999999,\n",
              "  'ROC': 0.5451666666666667},\n",
              " 10: {'Accuracy': 0.7855421686746988,\n",
              "  'Balanced Accuracy': 0.5463333333333333,\n",
              "  'ROC': 0.6785},\n",
              " 25: {'Accuracy': 0.8433734939759037,\n",
              "  'Balanced Accuracy': 0.5001666666666666,\n",
              "  'ROC': 0.6035000000000001},\n",
              " 50: {'Accuracy': 0.8722891566265061,\n",
              "  'Balanced Accuracy': 0.48266666666666663,\n",
              "  'ROC': 0.6001666666666666},\n",
              " 100: {'Accuracy': 0.9012048192771085,\n",
              "  'Balanced Accuracy': 0.49866666666666665,\n",
              "  'ROC': 0.541},\n",
              " 200: {'Accuracy': 0.9036144578313253,\n",
              "  'Balanced Accuracy': 0.5,\n",
              "  'ROC': 0.5181666666666667},\n",
              " 500: {'Accuracy': 0.9012048192771085,\n",
              "  'Balanced Accuracy': 0.49866666666666665,\n",
              "  'ROC': 0.5283333333333333},\n",
              " 1000: {'Accuracy': 0.9036144578313253,\n",
              "  'Balanced Accuracy': 0.5,\n",
              "  'ROC': 0.4713333333333334},\n",
              " 5000: {'Accuracy': 0.9036144578313253,\n",
              "  'Balanced Accuracy': 0.5,\n",
              "  'ROC': 0.5465},\n",
              " 10000: {'Accuracy': 0.9036144578313253,\n",
              "  'Balanced Accuracy': 0.5,\n",
              "  'ROC': 0.4763333333333334},\n",
              " 20000: {'Accuracy': 0.9036144578313253,\n",
              "  'Balanced Accuracy': 0.5,\n",
              "  'ROC': 0.5085000000000001},\n",
              " 30000: {'Accuracy': 0.9036144578313253,\n",
              "  'Balanced Accuracy': 0.5,\n",
              "  'ROC': 0.5395},\n",
              " 60000: {'Accuracy': 0.9036144578313253,\n",
              "  'Balanced Accuracy': 0.5,\n",
              "  'ROC': 0.499}}"
            ]
          },
          "metadata": {},
          "execution_count": 84
        }
      ]
    },
    {
      "cell_type": "code",
      "source": [
        "predsRecurNorm, scoreRecurNorm, rocRecurNorm = testFeatures(featureArray,namesRecur, recurstatus, rfnorm, canvaltpmT, valrecurY, 5)"
      ],
      "metadata": {
        "id": "OuVigxEU4rFF"
      },
      "execution_count": null,
      "outputs": []
    },
    {
      "cell_type": "code",
      "source": [
        "scoreRecurNorm "
      ],
      "metadata": {
        "id": "nMqwyvNQ49r2",
        "colab": {
          "base_uri": "https://localhost:8080/"
        },
        "outputId": "1d7a8895-bfb7-4da2-c860-0cd43397bff8"
      },
      "execution_count": null,
      "outputs": [
        {
          "output_type": "execute_result",
          "data": {
            "text/plain": [
              "{5: {'Accuracy': 0.7156626506024096,\n",
              "  'Balanced Accuracy': 0.5746666666666667,\n",
              "  'ROC': 0.5616666666666668},\n",
              " 10: {'Accuracy': 0.7566265060240964,\n",
              "  'Balanced Accuracy': 0.5414999999999999,\n",
              "  'ROC': 0.6586666666666667},\n",
              " 25: {'Accuracy': 0.8168674698795181,\n",
              "  'Balanced Accuracy': 0.5078333333333334,\n",
              "  'ROC': 0.5668333333333333},\n",
              " 50: {'Accuracy': 0.8506024096385542,\n",
              "  'Balanced Accuracy': 0.493,\n",
              "  'ROC': 0.5606666666666666},\n",
              " 100: {'Accuracy': 0.8963855421686748,\n",
              "  'Balanced Accuracy': 0.5071666666666667,\n",
              "  'ROC': 0.5028333333333334},\n",
              " 200: {'Accuracy': 0.9012048192771085,\n",
              "  'Balanced Accuracy': 0.49866666666666665,\n",
              "  'ROC': 0.5765},\n",
              " 500: {'Accuracy': 0.9012048192771085,\n",
              "  'Balanced Accuracy': 0.49866666666666665,\n",
              "  'ROC': 0.5063333333333333},\n",
              " 1000: {'Accuracy': 0.9036144578313253,\n",
              "  'Balanced Accuracy': 0.5,\n",
              "  'ROC': 0.4671666666666667},\n",
              " 5000: {'Accuracy': 0.9036144578313253,\n",
              "  'Balanced Accuracy': 0.5,\n",
              "  'ROC': 0.5886666666666667},\n",
              " 10000: {'Accuracy': 0.9036144578313253,\n",
              "  'Balanced Accuracy': 0.5,\n",
              "  'ROC': 0.5313333333333333},\n",
              " 20000: {'Accuracy': 0.9036144578313253,\n",
              "  'Balanced Accuracy': 0.5,\n",
              "  'ROC': 0.6248333333333334},\n",
              " 30000: {'Accuracy': 0.9036144578313253,\n",
              "  'Balanced Accuracy': 0.5,\n",
              "  'ROC': 0.6166666666666666},\n",
              " 60000: {'Accuracy': 0.9036144578313253,\n",
              "  'Balanced Accuracy': 0.5,\n",
              "  'ROC': 0.5775}}"
            ]
          },
          "metadata": {},
          "execution_count": 86
        }
      ]
    },
    {
      "cell_type": "code",
      "source": [
        "def plotBARlog(testscore, title): \n",
        "  nums = list(testscore.keys())\n",
        "  scores = []\n",
        "  bar = []\n",
        "  for i in testscore.values():\n",
        "    bar.append(i['Balanced Accuracy'])\n",
        "    scores.append(i['ROC'])\n",
        "  plt.title(title)\n",
        "  plt.xscale('log')\n",
        "  plt.xlabel(\"Genes used as Features (log)\")\n",
        "  plt.plot(nums,scores)\n",
        "  plt.plot(nums, bar)\n",
        "  plt.legend([ \"Mean ROC AUC Score\", \"Mean Balanced Accuracy\"])"
      ],
      "metadata": {
        "id": "27RkXlMIwhM2"
      },
      "execution_count": null,
      "outputs": []
    },
    {
      "cell_type": "code",
      "source": [
        "plotBARlog(bestscores, \"Validation ROC for Classifier\\n of Recurrent vs Nonrecurrent Samples\")"
      ],
      "metadata": {
        "id": "sy2othe4yKy5",
        "colab": {
          "base_uri": "https://localhost:8080/",
          "height": 314
        },
        "outputId": "a0d3a04d-4820-4050-f900-cf7ff2d16b58"
      },
      "execution_count": null,
      "outputs": [
        {
          "output_type": "display_data",
          "data": {
            "text/plain": [
              "<Figure size 432x288 with 1 Axes>"
            ],
            "image/png": "[encoded data removed]"
          },
          "metadata": {
            "needs_background": "light"
          }
        }
      ]
    },
    {
      "cell_type": "code",
      "source": [
        "plotfromScores(bestscores, \"Validation ROC for Classifier\\n of Recurrent vs Nonrecurrent Samples\")"
      ],
      "metadata": {
        "id": "Ds3rXSd_51PB",
        "colab": {
          "base_uri": "https://localhost:8080/",
          "height": 310
        },
        "outputId": "b66dbbd1-0c05-4ecd-e8e2-b24538949058"
      },
      "execution_count": null,
      "outputs": [
        {
          "output_type": "display_data",
          "data": {
            "text/plain": [
              "<Figure size 432x288 with 1 Axes>"
            ],
            "image/png": "[encoded data removed]"
          },
          "metadata": {
            "needs_background": "light"
          }
        }
      ]
    },
    {
      "cell_type": "code",
      "source": [
        "plotfromScores(scoreRecurNorm, \"Validation ROC vs. Number of Features for Classifier\\n of Recurrent vs Nonrecurrent Samples\")"
      ],
      "metadata": {
        "id": "Ds6DRH1G5W3i",
        "colab": {
          "base_uri": "https://localhost:8080/",
          "height": 310
        },
        "outputId": "15891a4b-4cb7-4dfb-949f-4527e805ab88"
      },
      "execution_count": null,
      "outputs": [
        {
          "output_type": "display_data",
          "data": {
            "text/plain": [
              "<Figure size 432x288 with 1 Axes>"
            ],
            "image/png": "[encoded data removed]"
          },
          "metadata": {
            "needs_background": "light"
          }
        }
      ]
    },
    {
      "cell_type": "markdown",
      "source": [
        "**New strategy: Take from this research paper:**\n",
        "https://www.ncbi.nlm.nih.gov/pmc/articles/PMC5559645/\n",
        "Review article: https://www.breastcancer.org/research-news/recurrences-may-have-different-genetics\n",
        "\n",
        "Goal is to take top genes associated with recurrent breast cancer from this paper"
      ],
      "metadata": {
        "id": "9RzgCOWc0AHm"
      }
    },
    {
      "cell_type": "code",
      "source": [
        "paperGenes = {\"STAT3\":\"ENSG00000168610\", \"ES41\": \"ENSG00000041353\", \"FANCD2\": \"ENSG00000144554\", \n",
        "              \"FOX1\":\"ENSG00000144554\", \"ARID1A\":\"ENSG00000117713\", \"NF1\":\"ENSG00000196712\", \n",
        "              \"ARID1B\":\"ENSG00000049618\", \"BRCA1\":\"ENSG00000012048\", \"PIK3R1\": \"ENSG00000145675\", \n",
        "              \"AKT1\": \"ENSG00000142208\", \"TP53\": \"ENSG00000141510\" }"
      ],
      "metadata": {
        "id": "3jGp4EgLz7jk"
      },
      "execution_count": null,
      "outputs": []
    },
    {
      "cell_type": "code",
      "source": [
        "def trainRandomForest(feats, Y): \n",
        "  return RandomForestClassifier().fit(feats, Y)"
      ],
      "metadata": {
        "id": "ykou_MrRF9Nc"
      },
      "execution_count": null,
      "outputs": []
    },
    {
      "cell_type": "code",
      "source": [
        "def getGenes(geneList, pandasDF): \n",
        "  features = pandasDF[geneList]\n",
        "  return features"
      ],
      "metadata": {
        "id": "4NV_FmCtJWVb"
      },
      "execution_count": null,
      "outputs": []
    },
    {
      "cell_type": "code",
      "source": [
        "geneList = [i for i in paperGenes.values()]"
      ],
      "metadata": {
        "id": "xMftXvuKBR5B"
      },
      "execution_count": null,
      "outputs": []
    },
    {
      "cell_type": "code",
      "source": [
        "# ensemble IDs for the genes found to be associated with recurrent breast cancer in this paper\n",
        "geneList"
      ],
      "metadata": {
        "id": "FMv6iE5v9Jfu",
        "colab": {
          "base_uri": "https://localhost:8080/"
        },
        "outputId": "5fbf6a2a-3e08-4bdb-ddca-dbcd367ddce9"
      },
      "execution_count": null,
      "outputs": [
        {
          "output_type": "execute_result",
          "data": {
            "text/plain": [
              "['ENSG00000168610',\n",
              " 'ENSG00000041353',\n",
              " 'ENSG00000144554',\n",
              " 'ENSG00000144554',\n",
              " 'ENSG00000117713',\n",
              " 'ENSG00000196712',\n",
              " 'ENSG00000049618',\n",
              " 'ENSG00000012048',\n",
              " 'ENSG00000145675',\n",
              " 'ENSG00000142208',\n",
              " 'ENSG00000141510']"
            ]
          },
          "metadata": {},
          "execution_count": 95
        }
      ]
    },
    {
      "cell_type": "code",
      "source": [
        "paperFeats = getGenes(geneList, readtpmT)"
      ],
      "metadata": {
        "id": "eIHvFPwHEir-"
      },
      "execution_count": null,
      "outputs": []
    },
    {
      "cell_type": "code",
      "source": [
        "paperScores, paperPreds, paperROC = kFoldArrTest([paperFeats], recurstatus, rf,5)"
      ],
      "metadata": {
        "id": "xGW4uXrQFYUx"
      },
      "execution_count": null,
      "outputs": []
    },
    {
      "cell_type": "code",
      "source": [
        "paperRF = trainRandomForest(paperFeats, recurstatus)"
      ],
      "metadata": {
        "id": "TR3C6xqQFYcC"
      },
      "execution_count": null,
      "outputs": []
    },
    {
      "cell_type": "code",
      "source": [
        "def testRF(cls, x_test,y_test, reps):\n",
        "  accuracy = 0\n",
        "  ba = 0\n",
        "  roc = 0\n",
        "  for x in range(0,reps): \n",
        "    preds = cls.predict(x_test)\n",
        "    accuracy += cls.score(x_test, y_test)\n",
        "    ba += balanced_accuracy_score(y_test, preds)\n",
        "    y_score = cls.predict_proba(x_test)[:,1]\n",
        "    roc += roc_auc_score(y_test, y_score)\n",
        "  \n",
        "  scores = { \"Accuracy\": accuracy/reps, \"Balanced Accuracy Rate\": ba/reps , \"ROC\": roc/reps}\n",
        "  return preds, scores"
      ],
      "metadata": {
        "id": "yPob4agnH2R5"
      },
      "execution_count": null,
      "outputs": []
    },
    {
      "cell_type": "code",
      "source": [
        "valfeats = getGenes(geneList, canvaltpmT)"
      ],
      "metadata": {
        "id": "YrNM6abcKMgl"
      },
      "execution_count": null,
      "outputs": []
    },
    {
      "cell_type": "code",
      "source": [
        "# similarly poor results to using the most variance \n",
        "preds, scores = testRF(paperRF, valfeats, valrecurY, 5)\n",
        "scores"
      ],
      "metadata": {
        "id": "NL_-KZ91JJZz",
        "colab": {
          "base_uri": "https://localhost:8080/"
        },
        "outputId": "cf9f3a6d-bcb2-418d-b219-1ca756305530"
      },
      "execution_count": null,
      "outputs": [
        {
          "output_type": "execute_result",
          "data": {
            "text/plain": [
              "{'Accuracy': 0.7469879518072289,\n",
              " 'Balanced Accuracy Rate': 0.4691666666666666,\n",
              " 'ROC': 0.5516666666666666}"
            ]
          },
          "metadata": {},
          "execution_count": 101
        }
      ]
    },
    {
      "cell_type": "code",
      "source": [
        "# combination method (10 genes with most variance + 10 genes from paper)\n",
        "cancermeta"
      ],
      "metadata": {
        "id": "vWsZQ6wTML_l",
        "colab": {
          "base_uri": "https://localhost:8080/",
          "height": 487
        },
        "outputId": "b9bdb38d-cec7-47c0-9ffc-a0d329e5fd26"
      },
      "execution_count": null,
      "outputs": [
        {
          "output_type": "execute_result",
          "data": {
            "text/plain": [
              "    poiseid  fu  Final.Library.Conc..nM.  Final.Library.Conc..ng.ul.  \\\n",
              "0      2006   2                    81.01                       15.83   \n",
              "1      2006   3                    35.99                        7.03   \n",
              "2      2010   3                    70.89                       13.85   \n",
              "3      2010   4                   114.20                       22.31   \n",
              "4      2011   2                   108.95                       21.28   \n",
              "..      ...  ..                      ...                         ...   \n",
              "91     2005   3                    14.16                        2.77   \n",
              "92     2003   2                   114.52                       22.37   \n",
              "93     2003   3                    67.67                       13.22   \n",
              "94     2002   2                    38.65                        7.55   \n",
              "95     2002   3                    41.04                        8.02   \n",
              "\n",
              "        sample.name.in.MiniSeq sample_id On.Plate  readcount  avglength  \\\n",
              "0   ZZ-20170524-Cellfree-10-01   S01_B14       A1     435826         75   \n",
              "1   ZZ-20170524-Cellfree-10-02   S02_B14       A2     563731         75   \n",
              "2   ZZ-20170524-Cellfree-10-03   S03_B14       A3     457102         74   \n",
              "3   ZZ-20170524-Cellfree-10-04   S04_B14       A4     638280         75   \n",
              "4   ZZ-20170524-Cellfree-10-05   S05_B14       A5     434579         75   \n",
              "..                         ...       ...      ...        ...        ...   \n",
              "91  ZZ-20170524-Cellfree-10-92   S92_B14       H8     351558         74   \n",
              "92  ZZ-20170524-Cellfree-10-93   S93_B14       H9     446446         75   \n",
              "93  ZZ-20170524-Cellfree-10-94   S94_B14      H10     367318         75   \n",
              "94  ZZ-20170524-Cellfree-10-95   S95_B14      H11     363729         75   \n",
              "95  ZZ-20170524-Cellfree-10-96   S96_B14      H12     344473         75   \n",
              "\n",
              "    uniquely_mapped_reads  ... cancertype  cancerstage_cat  er_cat  pr_cat  \\\n",
              "0                  370649  ...     Ductal                3       0       0   \n",
              "1                  481372  ...     Ductal                3       0       0   \n",
              "2                  399462  ...     Ductal                2       0       0   \n",
              "3                  562452  ...     Ductal                2       0       0   \n",
              "4                  382854  ...     Ductal                3       1       1   \n",
              "..                    ...  ...        ...              ...     ...     ...   \n",
              "91                 297278  ...     Ductal                2       1       1   \n",
              "92                 397125  ...     Ductal                2       1       1   \n",
              "93                 324069  ...     Ductal                2       1       1   \n",
              "94                 319003  ...     Ductal                3       1       1   \n",
              "95                 302913  ...     Ductal                3       1       1   \n",
              "\n",
              "    her2_cat  chemo  datechemostart  datechemoend  daterecurrence recurStatus  \n",
              "0          0   AC/T      31/12/2008    08/04/2009      29/06/2009           R  \n",
              "1          0   AC/T      31/12/2008    08/04/2009      29/06/2009           R  \n",
              "2          0   AC/T      07/01/2009    20/05/2009      09/11/2010           R  \n",
              "3          0   AC/T      07/01/2009    20/05/2009      09/11/2010           R  \n",
              "4          0   AC/T      12/01/2009    27/04/2009      22/12/2010           R  \n",
              "..       ...    ...             ...           ...             ...         ...  \n",
              "91         0     TC      12/11/2008    14/01/2009      01/03/2025           N  \n",
              "92         0   AC/T      24/10/2008    12/02/2009      01/03/2025           N  \n",
              "93         0   AC/T      24/10/2008    12/02/2009      01/03/2025           N  \n",
              "94         1   AC/T      13/10/2008    19/01/2009      01/03/2025           N  \n",
              "95         1   AC/T      13/10/2008    19/01/2009      01/03/2025           N  \n",
              "\n",
              "[96 rows x 30 columns]"
            ],
            "text/html": [
              "\n",
              "  <div id=\"df-f7e02905-b3c2-4133-af5a-446cb077b817\">\n",
              "    <div class=\"colab-df-container\">\n",
              "      <div>\n",
              "<style scoped>\n",
              "    .dataframe tbody tr th:only-of-type {\n",
              "        vertical-align: middle;\n",
              "    }\n",
              "\n",
              "    .dataframe tbody tr th {\n",
              "        vertical-align: top;\n",
              "    }\n",
              "\n",
              "    .dataframe thead th {\n",
              "        text-align: right;\n",
              "    }\n",
              "</style>\n",
              "<table border=\"1\" class=\"dataframe\">\n",
              "  <thead>\n",
              "    <tr style=\"text-align: right;\">\n",
              "      <th></th>\n",
              "      <th>poiseid</th>\n",
              "      <th>fu</th>\n",
              "      <th>Final.Library.Conc..nM.</th>\n",
              "      <th>Final.Library.Conc..ng.ul.</th>\n",
              "      <th>sample.name.in.MiniSeq</th>\n",
              "      <th>sample_id</th>\n",
              "      <th>On.Plate</th>\n",
              "      <th>readcount</th>\n",
              "      <th>avglength</th>\n",
              "      <th>uniquely_mapped_reads</th>\n",
              "      <th>...</th>\n",
              "      <th>cancertype</th>\n",
              "      <th>cancerstage_cat</th>\n",
              "      <th>er_cat</th>\n",
              "      <th>pr_cat</th>\n",
              "      <th>her2_cat</th>\n",
              "      <th>chemo</th>\n",
              "      <th>datechemostart</th>\n",
              "      <th>datechemoend</th>\n",
              "      <th>daterecurrence</th>\n",
              "      <th>recurStatus</th>\n",
              "    </tr>\n",
              "  </thead>\n",
              "  <tbody>\n",
              "    <tr>\n",
              "      <th>0</th>\n",
              "      <td>2006</td>\n",
              "      <td>2</td>\n",
              "      <td>81.01</td>\n",
              "      <td>15.83</td>\n",
              "      <td>ZZ-20170524-Cellfree-10-01</td>\n",
              "      <td>S01_B14</td>\n",
              "      <td>A1</td>\n",
              "      <td>435826</td>\n",
              "      <td>75</td>\n",
              "      <td>370649</td>\n",
              "      <td>...</td>\n",
              "      <td>Ductal</td>\n",
              "      <td>3</td>\n",
              "      <td>0</td>\n",
              "      <td>0</td>\n",
              "      <td>0</td>\n",
              "      <td>AC/T</td>\n",
              "      <td>31/12/2008</td>\n",
              "      <td>08/04/2009</td>\n",
              "      <td>29/06/2009</td>\n",
              "      <td>R</td>\n",
              "    </tr>\n",
              "    <tr>\n",
              "      <th>1</th>\n",
              "      <td>2006</td>\n",
              "      <td>3</td>\n",
              "      <td>35.99</td>\n",
              "      <td>7.03</td>\n",
              "      <td>ZZ-20170524-Cellfree-10-02</td>\n",
              "      <td>S02_B14</td>\n",
              "      <td>A2</td>\n",
              "      <td>563731</td>\n",
              "      <td>75</td>\n",
              "      <td>481372</td>\n",
              "      <td>...</td>\n",
              "      <td>Ductal</td>\n",
              "      <td>3</td>\n",
              "      <td>0</td>\n",
              "      <td>0</td>\n",
              "      <td>0</td>\n",
              "      <td>AC/T</td>\n",
              "      <td>31/12/2008</td>\n",
              "      <td>08/04/2009</td>\n",
              "      <td>29/06/2009</td>\n",
              "      <td>R</td>\n",
              "    </tr>\n",
              "    <tr>\n",
              "      <th>2</th>\n",
              "      <td>2010</td>\n",
              "      <td>3</td>\n",
              "      <td>70.89</td>\n",
              "      <td>13.85</td>\n",
              "      <td>ZZ-20170524-Cellfree-10-03</td>\n",
              "      <td>S03_B14</td>\n",
              "      <td>A3</td>\n",
              "      <td>457102</td>\n",
              "      <td>74</td>\n",
              "      <td>399462</td>\n",
              "      <td>...</td>\n",
              "      <td>Ductal</td>\n",
              "      <td>2</td>\n",
              "      <td>0</td>\n",
              "      <td>0</td>\n",
              "      <td>0</td>\n",
              "      <td>AC/T</td>\n",
              "      <td>07/01/2009</td>\n",
              "      <td>20/05/2009</td>\n",
              "      <td>09/11/2010</td>\n",
              "      <td>R</td>\n",
              "    </tr>\n",
              "    <tr>\n",
              "      <th>3</th>\n",
              "      <td>2010</td>\n",
              "      <td>4</td>\n",
              "      <td>114.20</td>\n",
              "      <td>22.31</td>\n",
              "      <td>ZZ-20170524-Cellfree-10-04</td>\n",
              "      <td>S04_B14</td>\n",
              "      <td>A4</td>\n",
              "      <td>638280</td>\n",
              "      <td>75</td>\n",
              "      <td>562452</td>\n",
              "      <td>...</td>\n",
              "      <td>Ductal</td>\n",
              "      <td>2</td>\n",
              "      <td>0</td>\n",
              "      <td>0</td>\n",
              "      <td>0</td>\n",
              "      <td>AC/T</td>\n",
              "      <td>07/01/2009</td>\n",
              "      <td>20/05/2009</td>\n",
              "      <td>09/11/2010</td>\n",
              "      <td>R</td>\n",
              "    </tr>\n",
              "    <tr>\n",
              "      <th>4</th>\n",
              "      <td>2011</td>\n",
              "      <td>2</td>\n",
              "      <td>108.95</td>\n",
              "      <td>21.28</td>\n",
              "      <td>ZZ-20170524-Cellfree-10-05</td>\n",
              "      <td>S05_B14</td>\n",
              "      <td>A5</td>\n",
              "      <td>434579</td>\n",
              "      <td>75</td>\n",
              "      <td>382854</td>\n",
              "      <td>...</td>\n",
              "      <td>Ductal</td>\n",
              "      <td>3</td>\n",
              "      <td>1</td>\n",
              "      <td>1</td>\n",
              "      <td>0</td>\n",
              "      <td>AC/T</td>\n",
              "      <td>12/01/2009</td>\n",
              "      <td>27/04/2009</td>\n",
              "      <td>22/12/2010</td>\n",
              "      <td>R</td>\n",
              "    </tr>\n",
              "    <tr>\n",
              "      <th>...</th>\n",
              "      <td>...</td>\n",
              "      <td>...</td>\n",
              "      <td>...</td>\n",
              "      <td>...</td>\n",
              "      <td>...</td>\n",
              "      <td>...</td>\n",
              "      <td>...</td>\n",
              "      <td>...</td>\n",
              "      <td>...</td>\n",
              "      <td>...</td>\n",
              "      <td>...</td>\n",
              "      <td>...</td>\n",
              "      <td>...</td>\n",
              "      <td>...</td>\n",
              "      <td>...</td>\n",
              "      <td>...</td>\n",
              "      <td>...</td>\n",
              "      <td>...</td>\n",
              "      <td>...</td>\n",
              "      <td>...</td>\n",
              "      <td>...</td>\n",
              "    </tr>\n",
              "    <tr>\n",
              "      <th>91</th>\n",
              "      <td>2005</td>\n",
              "      <td>3</td>\n",
              "      <td>14.16</td>\n",
              "      <td>2.77</td>\n",
              "      <td>ZZ-20170524-Cellfree-10-92</td>\n",
              "      <td>S92_B14</td>\n",
              "      <td>H8</td>\n",
              "      <td>351558</td>\n",
              "      <td>74</td>\n",
              "      <td>297278</td>\n",
              "      <td>...</td>\n",
              "      <td>Ductal</td>\n",
              "      <td>2</td>\n",
              "      <td>1</td>\n",
              "      <td>1</td>\n",
              "      <td>0</td>\n",
              "      <td>TC</td>\n",
              "      <td>12/11/2008</td>\n",
              "      <td>14/01/2009</td>\n",
              "      <td>01/03/2025</td>\n",
              "      <td>N</td>\n",
              "    </tr>\n",
              "    <tr>\n",
              "      <th>92</th>\n",
              "      <td>2003</td>\n",
              "      <td>2</td>\n",
              "      <td>114.52</td>\n",
              "      <td>22.37</td>\n",
              "      <td>ZZ-20170524-Cellfree-10-93</td>\n",
              "      <td>S93_B14</td>\n",
              "      <td>H9</td>\n",
              "      <td>446446</td>\n",
              "      <td>75</td>\n",
              "      <td>397125</td>\n",
              "      <td>...</td>\n",
              "      <td>Ductal</td>\n",
              "      <td>2</td>\n",
              "      <td>1</td>\n",
              "      <td>1</td>\n",
              "      <td>0</td>\n",
              "      <td>AC/T</td>\n",
              "      <td>24/10/2008</td>\n",
              "      <td>12/02/2009</td>\n",
              "      <td>01/03/2025</td>\n",
              "      <td>N</td>\n",
              "    </tr>\n",
              "    <tr>\n",
              "      <th>93</th>\n",
              "      <td>2003</td>\n",
              "      <td>3</td>\n",
              "      <td>67.67</td>\n",
              "      <td>13.22</td>\n",
              "      <td>ZZ-20170524-Cellfree-10-94</td>\n",
              "      <td>S94_B14</td>\n",
              "      <td>H10</td>\n",
              "      <td>367318</td>\n",
              "      <td>75</td>\n",
              "      <td>324069</td>\n",
              "      <td>...</td>\n",
              "      <td>Ductal</td>\n",
              "      <td>2</td>\n",
              "      <td>1</td>\n",
              "      <td>1</td>\n",
              "      <td>0</td>\n",
              "      <td>AC/T</td>\n",
              "      <td>24/10/2008</td>\n",
              "      <td>12/02/2009</td>\n",
              "      <td>01/03/2025</td>\n",
              "      <td>N</td>\n",
              "    </tr>\n",
              "    <tr>\n",
              "      <th>94</th>\n",
              "      <td>2002</td>\n",
              "      <td>2</td>\n",
              "      <td>38.65</td>\n",
              "      <td>7.55</td>\n",
              "      <td>ZZ-20170524-Cellfree-10-95</td>\n",
              "      <td>S95_B14</td>\n",
              "      <td>H11</td>\n",
              "      <td>363729</td>\n",
              "      <td>75</td>\n",
              "      <td>319003</td>\n",
              "      <td>...</td>\n",
              "      <td>Ductal</td>\n",
              "      <td>3</td>\n",
              "      <td>1</td>\n",
              "      <td>1</td>\n",
              "      <td>1</td>\n",
              "      <td>AC/T</td>\n",
              "      <td>13/10/2008</td>\n",
              "      <td>19/01/2009</td>\n",
              "      <td>01/03/2025</td>\n",
              "      <td>N</td>\n",
              "    </tr>\n",
              "    <tr>\n",
              "      <th>95</th>\n",
              "      <td>2002</td>\n",
              "      <td>3</td>\n",
              "      <td>41.04</td>\n",
              "      <td>8.02</td>\n",
              "      <td>ZZ-20170524-Cellfree-10-96</td>\n",
              "      <td>S96_B14</td>\n",
              "      <td>H12</td>\n",
              "      <td>344473</td>\n",
              "      <td>75</td>\n",
              "      <td>302913</td>\n",
              "      <td>...</td>\n",
              "      <td>Ductal</td>\n",
              "      <td>3</td>\n",
              "      <td>1</td>\n",
              "      <td>1</td>\n",
              "      <td>1</td>\n",
              "      <td>AC/T</td>\n",
              "      <td>13/10/2008</td>\n",
              "      <td>19/01/2009</td>\n",
              "      <td>01/03/2025</td>\n",
              "      <td>N</td>\n",
              "    </tr>\n",
              "  </tbody>\n",
              "</table>\n",
              "<p>96 rows × 30 columns</p>\n",
              "</div>\n",
              "      <button class=\"colab-df-convert\" onclick=\"convertToInteractive('df-f7e02905-b3c2-4133-af5a-446cb077b817')\"\n",
              "              title=\"Convert this dataframe to an interactive table.\"\n",
              "              style=\"display:none;\">\n",
              "        \n",
              "  <svg xmlns=\"http://www.w3.org/2000/svg\" height=\"24px\"viewBox=\"0 0 24 24\"\n",
              "       width=\"24px\">\n",
              "    <path d=\"M0 0h24v24H0V0z\" fill=\"none\"/>\n",
              "    <path d=\"M18.56 5.44l.94 2.06.94-2.06 2.06-.94-2.06-.94-.94-2.06-.94 2.06-2.06.94zm-11 1L8.5 8.5l.94-2.06 2.06-.94-2.06-.94L8.5 2.5l-.94 2.06-2.06.94zm10 10l.94 2.06.94-2.06 2.06-.94-2.06-.94-.94-2.06-.94 2.06-2.06.94z\"/><path d=\"M17.41 7.96l-1.37-1.37c-.4-.4-.92-.59-1.43-.59-.52 0-1.04.2-1.43.59L10.3 9.45l-7.72 7.72c-.78.78-.78 2.05 0 2.83L4 21.41c.39.39.9.59 1.41.59.51 0 1.02-.2 1.41-.59l7.78-7.78 2.81-2.81c.8-.78.8-2.07 0-2.86zM5.41 20L4 18.59l7.72-7.72 1.47 1.35L5.41 20z\"/>\n",
              "  </svg>\n",
              "      </button>\n",
              "      \n",
              "  <style>\n",
              "    .colab-df-container {\n",
              "      display:flex;\n",
              "      flex-wrap:wrap;\n",
              "      gap: 12px;\n",
              "    }\n",
              "\n",
              "    .colab-df-convert {\n",
              "      background-color: #E8F0FE;\n",
              "      border: none;\n",
              "      border-radius: 50%;\n",
              "      cursor: pointer;\n",
              "      display: none;\n",
              "      fill: #1967D2;\n",
              "      height: 32px;\n",
              "      padding: 0 0 0 0;\n",
              "      width: 32px;\n",
              "    }\n",
              "\n",
              "    .colab-df-convert:hover {\n",
              "      background-color: #E2EBFA;\n",
              "      box-shadow: 0px 1px 2px rgba(60, 64, 67, 0.3), 0px 1px 3px 1px rgba(60, 64, 67, 0.15);\n",
              "      fill: #174EA6;\n",
              "    }\n",
              "\n",
              "    [theme=dark] .colab-df-convert {\n",
              "      background-color: #3B4455;\n",
              "      fill: #D2E3FC;\n",
              "    }\n",
              "\n",
              "    [theme=dark] .colab-df-convert:hover {\n",
              "      background-color: #434B5C;\n",
              "      box-shadow: 0px 1px 3px 1px rgba(0, 0, 0, 0.15);\n",
              "      filter: drop-shadow(0px 1px 2px rgba(0, 0, 0, 0.3));\n",
              "      fill: #FFFFFF;\n",
              "    }\n",
              "  </style>\n",
              "\n",
              "      <script>\n",
              "        const buttonEl =\n",
              "          document.querySelector('#df-f7e02905-b3c2-4133-af5a-446cb077b817 button.colab-df-convert');\n",
              "        buttonEl.style.display =\n",
              "          google.colab.kernel.accessAllowed ? 'block' : 'none';\n",
              "\n",
              "        async function convertToInteractive(key) {\n",
              "          const element = document.querySelector('#df-f7e02905-b3c2-4133-af5a-446cb077b817');\n",
              "          const dataTable =\n",
              "            await google.colab.kernel.invokeFunction('convertToInteractive',\n",
              "                                                     [key], {});\n",
              "          if (!dataTable) return;\n",
              "\n",
              "          const docLinkHtml = 'Like what you see? Visit the ' +\n",
              "            '<a target=\"_blank\" href=https://colab.research.google.com/notebooks/data_table.ipynb>data table notebook</a>'\n",
              "            + ' to learn more about interactive tables.';\n",
              "          element.innerHTML = '';\n",
              "          dataTable['output_type'] = 'display_data';\n",
              "          await google.colab.output.renderOutput(dataTable, element);\n",
              "          const docLink = document.createElement('div');\n",
              "          docLink.innerHTML = docLinkHtml;\n",
              "          element.appendChild(docLink);\n",
              "        }\n",
              "      </script>\n",
              "    </div>\n",
              "  </div>\n",
              "  "
            ]
          },
          "metadata": {},
          "execution_count": 102
        }
      ]
    },
    {
      "cell_type": "markdown",
      "source": [
        "**Normal vs Cancer Classifier**"
      ],
      "metadata": {
        "id": "i-M7_ec7juW_"
      }
    },
    {
      "cell_type": "code",
      "source": [
        "# combine the normal and cancer samples\n",
        "combinedtpm = pd.concat([readtpm, normaltpm], axis = 1, copy = True)\n",
        "combinedtpm.drop(labels=\"ENSG00000000003\", inplace = True)"
      ],
      "metadata": {
        "id": "VRr-CxwsnZjt"
      },
      "execution_count": null,
      "outputs": []
    },
    {
      "cell_type": "code",
      "source": [
        "comblabel = [1 if i < 96 else 0 for i in range(0,128) ]"
      ],
      "metadata": {
        "id": "99XA2Vlhr6lB"
      },
      "execution_count": null,
      "outputs": []
    },
    {
      "cell_type": "code",
      "source": [
        "normfeats, normnames, normVals = kBestArray([10,50,100,200,500, 700, 1000, 5000, 10000, 20000, 30000, 40000, 60674], combinedtpm.T, comblabel)"
      ],
      "metadata": {
        "id": "jx6jdQ5GuxVb"
      },
      "execution_count": null,
      "outputs": []
    },
    {
      "cell_type": "code",
      "source": [
        "validtpmT = validtpm.T"
      ],
      "metadata": {
        "id": "XdzinZZbFJje"
      },
      "execution_count": null,
      "outputs": []
    },
    {
      "cell_type": "code",
      "source": [
        "normbalScore, normbalPred, normbalRoc = kFoldArrTest(normfeats, comblabel, rfbal, 3)"
      ],
      "metadata": {
        "id": "tj-cA8rRwWwb"
      },
      "execution_count": null,
      "outputs": []
    },
    {
      "cell_type": "code",
      "source": [
        "normScore, normPred, normRoc = kFoldArrTest(normfeats, comblabel, rfnorm, 3)"
      ],
      "metadata": {
        "id": "s77y3vJ5xAWZ"
      },
      "execution_count": null,
      "outputs": []
    },
    {
      "cell_type": "code",
      "source": [
        "normbalScore"
      ],
      "metadata": {
        "id": "QI_6LXLLB5Ar",
        "colab": {
          "base_uri": "https://localhost:8080/"
        },
        "outputId": "03fa09d8-7f44-4798-da07-abd877851cfb"
      },
      "execution_count": null,
      "outputs": [
        {
          "output_type": "execute_result",
          "data": {
            "text/plain": [
              "{10: {'Acc': [1.0, 0.97674, 1.0], 'ROC': 0.9996744791666667},\n",
              " 50: {'Acc': [1.0, 1.0, 1.0], 'ROC': 1.0},\n",
              " 100: {'Acc': [1.0, 1.0, 1.0], 'ROC': 1.0},\n",
              " 200: {'Acc': [1.0, 1.0, 1.0], 'ROC': 1.0},\n",
              " 500: {'Acc': [1.0, 1.0, 1.0], 'ROC': 1.0},\n",
              " 700: {'Acc': [1.0, 1.0, 1.0], 'ROC': 1.0},\n",
              " 1000: {'Acc': [1.0, 1.0, 1.0], 'ROC': 1.0},\n",
              " 5000: {'Acc': [0.97674, 0.95349, 0.97619], 'ROC': 1.0},\n",
              " 10000: {'Acc': [0.95349, 0.95349, 0.95238], 'ROC': 1.0},\n",
              " 20000: {'Acc': [0.97674, 0.90698, 0.88095], 'ROC': 0.9998372395833334},\n",
              " 30000: {'Acc': [0.88372, 0.88372, 0.78571], 'ROC': 1.0},\n",
              " 40000: {'Acc': [0.90698, 0.93023, 0.78571], 'ROC': 0.99609375},\n",
              " 60674: {'Acc': [0.86047, 0.88372, 0.80952], 'ROC': 0.9977213541666666}}"
            ]
          },
          "metadata": {},
          "execution_count": 109
        }
      ]
    },
    {
      "cell_type": "code",
      "source": [
        "normScoreDF = pd.DataFrame(data=normScore).T\n",
        "normScoreDF.columns = ['3-Fold Accuracy Scores', 'ROC AUC Score']\n",
        "normScoreDF.index.name = 'Number of Genes Used'"
      ],
      "metadata": {
        "id": "Ra8RLgWit0sc"
      },
      "execution_count": null,
      "outputs": []
    },
    {
      "cell_type": "code",
      "source": [
        "normScoreDF"
      ],
      "metadata": {
        "id": "enfH3ISzvktq",
        "colab": {
          "base_uri": "https://localhost:8080/",
          "height": 488
        },
        "outputId": "1a55d09c-0f64-49e1-8c7d-67292c47d8b6"
      },
      "execution_count": null,
      "outputs": [
        {
          "output_type": "execute_result",
          "data": {
            "text/plain": [
              "                           3-Fold Accuracy Scores ROC AUC Score\n",
              "Number of Genes Used                                           \n",
              "10                            [1.0, 0.97674, 1.0]           1.0\n",
              "50                                [1.0, 1.0, 1.0]           1.0\n",
              "100                               [1.0, 1.0, 1.0]           1.0\n",
              "200                               [1.0, 1.0, 1.0]           1.0\n",
              "500                               [1.0, 1.0, 1.0]           1.0\n",
              "700                               [1.0, 1.0, 1.0]           1.0\n",
              "1000                              [1.0, 1.0, 1.0]           1.0\n",
              "5000                              [1.0, 1.0, 1.0]           1.0\n",
              "10000                     [0.97674, 1.0, 0.97619]           1.0\n",
              "20000                     [0.95349, 1.0, 0.97619]           1.0\n",
              "30000                 [0.95349, 0.97674, 0.90476]      0.997559\n",
              "40000                 [0.95349, 0.93023, 0.83333]      0.993978\n",
              "60674                 [0.88372, 0.88372, 0.85714]      0.991699"
            ],
            "text/html": [
              "\n",
              "  <div id=\"df-3ec6b043-b8c1-47b0-80da-d36c757ee3dd\">\n",
              "    <div class=\"colab-df-container\">\n",
              "      <div>\n",
              "<style scoped>\n",
              "    .dataframe tbody tr th:only-of-type {\n",
              "        vertical-align: middle;\n",
              "    }\n",
              "\n",
              "    .dataframe tbody tr th {\n",
              "        vertical-align: top;\n",
              "    }\n",
              "\n",
              "    .dataframe thead th {\n",
              "        text-align: right;\n",
              "    }\n",
              "</style>\n",
              "<table border=\"1\" class=\"dataframe\">\n",
              "  <thead>\n",
              "    <tr style=\"text-align: right;\">\n",
              "      <th></th>\n",
              "      <th>3-Fold Accuracy Scores</th>\n",
              "      <th>ROC AUC Score</th>\n",
              "    </tr>\n",
              "    <tr>\n",
              "      <th>Number of Genes Used</th>\n",
              "      <th></th>\n",
              "      <th></th>\n",
              "    </tr>\n",
              "  </thead>\n",
              "  <tbody>\n",
              "    <tr>\n",
              "      <th>10</th>\n",
              "      <td>[1.0, 0.97674, 1.0]</td>\n",
              "      <td>1.0</td>\n",
              "    </tr>\n",
              "    <tr>\n",
              "      <th>50</th>\n",
              "      <td>[1.0, 1.0, 1.0]</td>\n",
              "      <td>1.0</td>\n",
              "    </tr>\n",
              "    <tr>\n",
              "      <th>100</th>\n",
              "      <td>[1.0, 1.0, 1.0]</td>\n",
              "      <td>1.0</td>\n",
              "    </tr>\n",
              "    <tr>\n",
              "      <th>200</th>\n",
              "      <td>[1.0, 1.0, 1.0]</td>\n",
              "      <td>1.0</td>\n",
              "    </tr>\n",
              "    <tr>\n",
              "      <th>500</th>\n",
              "      <td>[1.0, 1.0, 1.0]</td>\n",
              "      <td>1.0</td>\n",
              "    </tr>\n",
              "    <tr>\n",
              "      <th>700</th>\n",
              "      <td>[1.0, 1.0, 1.0]</td>\n",
              "      <td>1.0</td>\n",
              "    </tr>\n",
              "    <tr>\n",
              "      <th>1000</th>\n",
              "      <td>[1.0, 1.0, 1.0]</td>\n",
              "      <td>1.0</td>\n",
              "    </tr>\n",
              "    <tr>\n",
              "      <th>5000</th>\n",
              "      <td>[1.0, 1.0, 1.0]</td>\n",
              "      <td>1.0</td>\n",
              "    </tr>\n",
              "    <tr>\n",
              "      <th>10000</th>\n",
              "      <td>[0.97674, 1.0, 0.97619]</td>\n",
              "      <td>1.0</td>\n",
              "    </tr>\n",
              "    <tr>\n",
              "      <th>20000</th>\n",
              "      <td>[0.95349, 1.0, 0.97619]</td>\n",
              "      <td>1.0</td>\n",
              "    </tr>\n",
              "    <tr>\n",
              "      <th>30000</th>\n",
              "      <td>[0.95349, 0.97674, 0.90476]</td>\n",
              "      <td>0.997559</td>\n",
              "    </tr>\n",
              "    <tr>\n",
              "      <th>40000</th>\n",
              "      <td>[0.95349, 0.93023, 0.83333]</td>\n",
              "      <td>0.993978</td>\n",
              "    </tr>\n",
              "    <tr>\n",
              "      <th>60674</th>\n",
              "      <td>[0.88372, 0.88372, 0.85714]</td>\n",
              "      <td>0.991699</td>\n",
              "    </tr>\n",
              "  </tbody>\n",
              "</table>\n",
              "</div>\n",
              "      <button class=\"colab-df-convert\" onclick=\"convertToInteractive('df-3ec6b043-b8c1-47b0-80da-d36c757ee3dd')\"\n",
              "              title=\"Convert this dataframe to an interactive table.\"\n",
              "              style=\"display:none;\">\n",
              "        \n",
              "  <svg xmlns=\"http://www.w3.org/2000/svg\" height=\"24px\"viewBox=\"0 0 24 24\"\n",
              "       width=\"24px\">\n",
              "    <path d=\"M0 0h24v24H0V0z\" fill=\"none\"/>\n",
              "    <path d=\"M18.56 5.44l.94 2.06.94-2.06 2.06-.94-2.06-.94-.94-2.06-.94 2.06-2.06.94zm-11 1L8.5 8.5l.94-2.06 2.06-.94-2.06-.94L8.5 2.5l-.94 2.06-2.06.94zm10 10l.94 2.06.94-2.06 2.06-.94-2.06-.94-.94-2.06-.94 2.06-2.06.94z\"/><path d=\"M17.41 7.96l-1.37-1.37c-.4-.4-.92-.59-1.43-.59-.52 0-1.04.2-1.43.59L10.3 9.45l-7.72 7.72c-.78.78-.78 2.05 0 2.83L4 21.41c.39.39.9.59 1.41.59.51 0 1.02-.2 1.41-.59l7.78-7.78 2.81-2.81c.8-.78.8-2.07 0-2.86zM5.41 20L4 18.59l7.72-7.72 1.47 1.35L5.41 20z\"/>\n",
              "  </svg>\n",
              "      </button>\n",
              "      \n",
              "  <style>\n",
              "    .colab-df-container {\n",
              "      display:flex;\n",
              "      flex-wrap:wrap;\n",
              "      gap: 12px;\n",
              "    }\n",
              "\n",
              "    .colab-df-convert {\n",
              "      background-color: #E8F0FE;\n",
              "      border: none;\n",
              "      border-radius: 50%;\n",
              "      cursor: pointer;\n",
              "      display: none;\n",
              "      fill: #1967D2;\n",
              "      height: 32px;\n",
              "      padding: 0 0 0 0;\n",
              "      width: 32px;\n",
              "    }\n",
              "\n",
              "    .colab-df-convert:hover {\n",
              "      background-color: #E2EBFA;\n",
              "      box-shadow: 0px 1px 2px rgba(60, 64, 67, 0.3), 0px 1px 3px 1px rgba(60, 64, 67, 0.15);\n",
              "      fill: #174EA6;\n",
              "    }\n",
              "\n",
              "    [theme=dark] .colab-df-convert {\n",
              "      background-color: #3B4455;\n",
              "      fill: #D2E3FC;\n",
              "    }\n",
              "\n",
              "    [theme=dark] .colab-df-convert:hover {\n",
              "      background-color: #434B5C;\n",
              "      box-shadow: 0px 1px 3px 1px rgba(0, 0, 0, 0.15);\n",
              "      filter: drop-shadow(0px 1px 2px rgba(0, 0, 0, 0.3));\n",
              "      fill: #FFFFFF;\n",
              "    }\n",
              "  </style>\n",
              "\n",
              "      <script>\n",
              "        const buttonEl =\n",
              "          document.querySelector('#df-3ec6b043-b8c1-47b0-80da-d36c757ee3dd button.colab-df-convert');\n",
              "        buttonEl.style.display =\n",
              "          google.colab.kernel.accessAllowed ? 'block' : 'none';\n",
              "\n",
              "        async function convertToInteractive(key) {\n",
              "          const element = document.querySelector('#df-3ec6b043-b8c1-47b0-80da-d36c757ee3dd');\n",
              "          const dataTable =\n",
              "            await google.colab.kernel.invokeFunction('convertToInteractive',\n",
              "                                                     [key], {});\n",
              "          if (!dataTable) return;\n",
              "\n",
              "          const docLinkHtml = 'Like what you see? Visit the ' +\n",
              "            '<a target=\"_blank\" href=https://colab.research.google.com/notebooks/data_table.ipynb>data table notebook</a>'\n",
              "            + ' to learn more about interactive tables.';\n",
              "          element.innerHTML = '';\n",
              "          dataTable['output_type'] = 'display_data';\n",
              "          await google.colab.output.renderOutput(dataTable, element);\n",
              "          const docLink = document.createElement('div');\n",
              "          docLink.innerHTML = docLinkHtml;\n",
              "          element.appendChild(docLink);\n",
              "        }\n",
              "      </script>\n",
              "    </div>\n",
              "  </div>\n",
              "  "
            ]
          },
          "metadata": {},
          "execution_count": 111
        }
      ]
    },
    {
      "cell_type": "code",
      "source": [
        "plotfromScores(normScore, \"3-Fold Cross Validation ROC AUC\\n for Classifier of Cancer vs Normal Samples\")"
      ],
      "metadata": {
        "id": "T9bD28iZr8Qu",
        "colab": {
          "base_uri": "https://localhost:8080/",
          "height": 310
        },
        "outputId": "bcda805c-8218-4794-866d-e0f31c579721"
      },
      "execution_count": null,
      "outputs": [
        {
          "output_type": "display_data",
          "data": {
            "text/plain": [
              "<Figure size 432x288 with 1 Axes>"
            ],
            "image/png": "[encoded data removed]"
          },
          "metadata": {
            "needs_background": "light"
          }
        }
      ]
    },
    {
      "cell_type": "code",
      "source": [
        "plotfromScoresLog(normScore, \"ROC AUC Scores for 3-fold cross validation of PNAS dataset \")"
      ],
      "metadata": {
        "id": "ertdjfbMWYSa",
        "colab": {
          "base_uri": "https://localhost:8080/",
          "height": 299
        },
        "outputId": "181458ae-78f9-4feb-a9ef-bc28853dfc4d"
      },
      "execution_count": null,
      "outputs": [
        {
          "output_type": "display_data",
          "data": {
            "text/plain": [
              "<Figure size 432x288 with 1 Axes>"
            ],
            "image/png": "[encoded data removed]"
          },
          "metadata": {
            "needs_background": "light"
          }
        }
      ]
    },
    {
      "cell_type": "code",
      "source": [
        "graphROC(normRoc[5000], \"Validation ROC Curves for the top 5000 genes\\nNormal vs Cancer Samples\" ,normScore[5000])"
      ],
      "metadata": {
        "id": "kuzP2_X6sbnB",
        "colab": {
          "base_uri": "https://localhost:8080/",
          "height": 328
        },
        "outputId": "40ba5d1d-26c8-4661-d6ec-7b3ad56b736c"
      },
      "execution_count": null,
      "outputs": [
        {
          "output_type": "stream",
          "name": "stdout",
          "text": [
            "2\n"
          ]
        },
        {
          "output_type": "display_data",
          "data": {
            "text/plain": [
              "<Figure size 432x288 with 1 Axes>"
            ],
            "image/png": "[encoded data removed]"
          },
          "metadata": {
            "needs_background": "light"
          }
        }
      ]
    },
    {
      "cell_type": "code",
      "source": [
        "# getting classification labels (Y values) from validation dataset\n",
        "def validY(validnormal, validtpm): \n",
        "  y_vals = []\n",
        "  for i in validtpm.columns:\n",
        "    added = False\n",
        "    for j in validnormal['Mapping ID']:\n",
        "      if i == j: \n",
        "        y_vals.append(0)\n",
        "        added = True\n",
        "        break\n",
        "\n",
        "    if added == False: \n",
        "      y_vals.append(1)\n",
        "  return y_vals"
      ],
      "metadata": {
        "id": "l3HGCv8K90Gm"
      },
      "execution_count": null,
      "outputs": []
    },
    {
      "cell_type": "code",
      "source": [
        "valY = validY(validnormal, validtpm)"
      ],
      "metadata": {
        "id": "DzvfhCPx_GLh"
      },
      "execution_count": null,
      "outputs": []
    },
    {
      "cell_type": "code",
      "source": [
        "testpred, testscore, testroc = testFeatures(normfeats, normnames, comblabel, rfnorm, validtpmT, valY,10)"
      ],
      "metadata": {
        "id": "E5uRusQJDbW4"
      },
      "execution_count": null,
      "outputs": []
    },
    {
      "cell_type": "code",
      "source": [
        "testpred2, testscore2, roc2 = testFeatures(normfeats, normnames, comblabel, rfbal, validtpmT, valY, 10)"
      ],
      "metadata": {
        "id": "xQ8DIfBJPsmK"
      },
      "execution_count": null,
      "outputs": []
    },
    {
      "cell_type": "code",
      "source": [
        "testscore"
      ],
      "metadata": {
        "id": "kasueOMf38rS",
        "colab": {
          "base_uri": "https://localhost:8080/"
        },
        "outputId": "32152927-c129-4ba4-cef8-0075e458b999"
      },
      "execution_count": null,
      "outputs": [
        {
          "output_type": "execute_result",
          "data": {
            "text/plain": [
              "{10: {'Accuracy': 0.51055900621118,\n",
              "  'Balanced Accuracy': 0.4951807228915662,\n",
              "  'ROC': 0.5888940376892183},\n",
              " 50: {'Accuracy': 0.5167701863354036,\n",
              "  'Balanced Accuracy': 0.5041396354649366,\n",
              "  'ROC': 0.5393960457213469},\n",
              " 100: {'Accuracy': 0.5167701863354036,\n",
              "  'Balanced Accuracy': 0.503907939450108,\n",
              "  'ROC': 0.5568427556379363},\n",
              " 200: {'Accuracy': 0.520496894409938,\n",
              "  'Balanced Accuracy': 0.5086422613531046,\n",
              "  'ROC': 0.5621949335804757},\n",
              " 500: {'Accuracy': 0.5260869565217391,\n",
              "  'Balanced Accuracy': 0.5139481000926784,\n",
              "  'ROC': 0.5984862527031202},\n",
              " 700: {'Accuracy': 0.5285714285714286,\n",
              "  'Balanced Accuracy': 0.5165894346617239,\n",
              "  'ROC': 0.605800123571208},\n",
              " 1000: {'Accuracy': 0.5341614906832298,\n",
              "  'Balanced Accuracy': 0.5228606734630831,\n",
              "  'ROC': 0.613453815261044},\n",
              " 5000: {'Accuracy': 0.5652173913043478,\n",
              "  'Balanced Accuracy': 0.5557228915662652,\n",
              "  'ROC': 0.6503166512202657},\n",
              " 10000: {'Accuracy': 0.5596273291925465,\n",
              "  'Balanced Accuracy': 0.5499536607970343,\n",
              "  'ROC': 0.6646740809391412},\n",
              " 20000: {'Accuracy': 0.562111801242236,\n",
              "  'Balanced Accuracy': 0.5515137472968797,\n",
              "  'ROC': 0.6748764287920914},\n",
              " 30000: {'Accuracy': 0.5565217391304348,\n",
              "  'Balanced Accuracy': 0.545010812480692,\n",
              "  'ROC': 0.683704046957059},\n",
              " 40000: {'Accuracy': 0.5670807453416149,\n",
              "  'Balanced Accuracy': 0.5563330244053135,\n",
              "  'ROC': 0.6798810627123879},\n",
              " 60674: {'Accuracy': 0.5614906832298137,\n",
              "  'Balanced Accuracy': 0.5496370095767686,\n",
              "  'ROC': 0.6977679950571517}}"
            ]
          },
          "metadata": {},
          "execution_count": 119
        }
      ]
    },
    {
      "cell_type": "code",
      "source": [
        "plotfromScores(testscore, \"Validation ROC for Classifier\\n of Cancer vs Normal Samples\")"
      ],
      "metadata": {
        "id": "9_j8eHDALHXc",
        "colab": {
          "base_uri": "https://localhost:8080/",
          "height": 310
        },
        "outputId": "1cdcd1b2-68e5-4128-eb8a-e32365f3edb5"
      },
      "execution_count": null,
      "outputs": [
        {
          "output_type": "display_data",
          "data": {
            "text/plain": [
              "<Figure size 432x288 with 1 Axes>"
            ],
            "image/png": "[encoded data removed]"
          },
          "metadata": {
            "needs_background": "light"
          }
        }
      ]
    },
    {
      "cell_type": "code",
      "source": [
        "plotBARlog(testscore, \"Validation ROC for Classifier\\n of Cancer vs Normal Samples\")"
      ],
      "metadata": {
        "id": "z_KldaZO3rON",
        "colab": {
          "base_uri": "https://localhost:8080/",
          "height": 314
        },
        "outputId": "aca0cde8-a722-4965-c53f-aa2dbdb22beb"
      },
      "execution_count": null,
      "outputs": [
        {
          "output_type": "display_data",
          "data": {
            "text/plain": [
              "<Figure size 432x288 with 1 Axes>"
            ],
            "image/png": "[encoded data removed]"
          },
          "metadata": {
            "needs_background": "light"
          }
        }
      ]
    },
    {
      "cell_type": "code",
      "source": [
        "graphROC(testroc[30000], \"Validation ROC Curves for the top 30000 genes\\nNormal vs Cancer Samples (10 Repeats)\" ,testscore[30000])"
      ],
      "metadata": {
        "id": "uym1fbdz8DVP",
        "colab": {
          "base_uri": "https://localhost:8080/",
          "height": 328
        },
        "outputId": "ac891859-6f03-4d4a-a1b0-20704b6d7bf2"
      },
      "execution_count": null,
      "outputs": [
        {
          "output_type": "stream",
          "name": "stdout",
          "text": [
            "10\n"
          ]
        },
        {
          "output_type": "display_data",
          "data": {
            "text/plain": [
              "<Figure size 432x288 with 1 Axes>"
            ],
            "image/png": "[encoded data removed]"
          },
          "metadata": {
            "needs_background": "light"
          }
        }
      ]
    },
    {
      "cell_type": "code",
      "source": [
        "testscore"
      ],
      "metadata": {
        "colab": {
          "base_uri": "https://localhost:8080/"
        },
        "id": "AJ2t3m0IbJs8",
        "outputId": "553a5e82-2d1e-43b6-d0d5-df42b4f08e94"
      },
      "execution_count": null,
      "outputs": [
        {
          "output_type": "execute_result",
          "data": {
            "text/plain": [
              "{10: {'Accuracy': 0.51055900621118,\n",
              "  'Balanced Accuracy': 0.4951807228915662,\n",
              "  'ROC': 0.5888940376892183},\n",
              " 50: {'Accuracy': 0.5167701863354036,\n",
              "  'Balanced Accuracy': 0.5041396354649366,\n",
              "  'ROC': 0.5393960457213469},\n",
              " 100: {'Accuracy': 0.5167701863354036,\n",
              "  'Balanced Accuracy': 0.503907939450108,\n",
              "  'ROC': 0.5568427556379363},\n",
              " 200: {'Accuracy': 0.520496894409938,\n",
              "  'Balanced Accuracy': 0.5086422613531046,\n",
              "  'ROC': 0.5621949335804757},\n",
              " 500: {'Accuracy': 0.5260869565217391,\n",
              "  'Balanced Accuracy': 0.5139481000926784,\n",
              "  'ROC': 0.5984862527031202},\n",
              " 700: {'Accuracy': 0.5285714285714286,\n",
              "  'Balanced Accuracy': 0.5165894346617239,\n",
              "  'ROC': 0.605800123571208},\n",
              " 1000: {'Accuracy': 0.5341614906832298,\n",
              "  'Balanced Accuracy': 0.5228606734630831,\n",
              "  'ROC': 0.613453815261044},\n",
              " 5000: {'Accuracy': 0.5652173913043478,\n",
              "  'Balanced Accuracy': 0.5557228915662652,\n",
              "  'ROC': 0.6503166512202657},\n",
              " 10000: {'Accuracy': 0.5596273291925465,\n",
              "  'Balanced Accuracy': 0.5499536607970343,\n",
              "  'ROC': 0.6646740809391412},\n",
              " 20000: {'Accuracy': 0.562111801242236,\n",
              "  'Balanced Accuracy': 0.5515137472968797,\n",
              "  'ROC': 0.6748764287920914},\n",
              " 30000: {'Accuracy': 0.5565217391304348,\n",
              "  'Balanced Accuracy': 0.545010812480692,\n",
              "  'ROC': 0.683704046957059},\n",
              " 40000: {'Accuracy': 0.5670807453416149,\n",
              "  'Balanced Accuracy': 0.5563330244053135,\n",
              "  'ROC': 0.6798810627123879},\n",
              " 60674: {'Accuracy': 0.5614906832298137,\n",
              "  'Balanced Accuracy': 0.5496370095767686,\n",
              "  'ROC': 0.6977679950571517}}"
            ]
          },
          "metadata": {},
          "execution_count": 131
        }
      ]
    },
    {
      "cell_type": "code",
      "source": [
        "graphROC(testroc[5000], \"Validation ROC Curves for the top 5000 genes\\nNormal vs Cancer Samples (10 Repeats)\" ,testscore[5000])"
      ],
      "metadata": {
        "id": "CCEXNnUaD6G6",
        "colab": {
          "base_uri": "https://localhost:8080/",
          "height": 328
        },
        "outputId": "9c7f5894-f2f1-4b8a-ffd5-4d0531b69e44"
      },
      "execution_count": null,
      "outputs": [
        {
          "output_type": "stream",
          "name": "stdout",
          "text": [
            "10\n"
          ]
        },
        {
          "output_type": "display_data",
          "data": {
            "text/plain": [
              "<Figure size 432x288 with 1 Axes>"
            ],
            "image/png": "[encoded data removed]"
          },
          "metadata": {
            "needs_background": "light"
          }
        }
      ]
    },
    {
      "cell_type": "code",
      "source": [
        "plotfromScores(testscore2, \"Validation ROC vs. Number of Features for Classifier\\n of Cancer vs Normal Samples\")"
      ],
      "metadata": {
        "id": "EDDWgfA6Pza-",
        "colab": {
          "base_uri": "https://localhost:8080/",
          "height": 310
        },
        "outputId": "795e3657-7c15-404c-a2bb-d327d0aced73"
      },
      "execution_count": null,
      "outputs": [
        {
          "output_type": "display_data",
          "data": {
            "text/plain": [
              "<Figure size 432x288 with 1 Axes>"
            ],
            "image/png": "[encoded data removed]"
          },
          "metadata": {
            "needs_background": "light"
          }
        }
      ]
    },
    {
      "cell_type": "code",
      "source": [
        "# trying the same features, but using a logistic regression model instead of random forest\n",
        "logist = LogisticRegression(class_weight='balanced')\n",
        "logpr, logsc, logroc = testFeatures(normfeats, normnames, comblabel, logist, validtpmT, valY, 5)"
      ],
      "metadata": {
        "id": "-aFO-yAfc2K_"
      },
      "execution_count": null,
      "outputs": []
    },
    {
      "cell_type": "code",
      "source": [
        "logsc"
      ],
      "metadata": {
        "id": "we13gOPrhTAB",
        "colab": {
          "base_uri": "https://localhost:8080/"
        },
        "outputId": "607d4fa0-ca61-455e-a01d-398e0df43ef9"
      },
      "execution_count": null,
      "outputs": [
        {
          "output_type": "execute_result",
          "data": {
            "text/plain": [
              "{10: {'Accuracy': 0.5403726708074534,\n",
              "  'Balanced Accuracy': 0.5287303058387396,\n",
              "  'ROC': 0.6234167438986716},\n",
              " 50: {'Accuracy': 0.5714285714285714,\n",
              "  'Balanced Accuracy': 0.5646431881371641,\n",
              "  'ROC': 0.6186283595922151},\n",
              " 100: {'Accuracy': 0.577639751552795,\n",
              "  'Balanced Accuracy': 0.5664195242508495,\n",
              "  'ROC': 0.6428792091442693},\n",
              " 200: {'Accuracy': 0.577639751552795,\n",
              "  'Balanced Accuracy': 0.5652610441767069,\n",
              "  'ROC': 0.6505251776336113},\n",
              " 500: {'Accuracy': 0.577639751552795,\n",
              "  'Balanced Accuracy': 0.5652610441767069,\n",
              "  'ROC': 0.6597930182267532},\n",
              " 700: {'Accuracy': 0.5652173913043478,\n",
              "  'Balanced Accuracy': 0.552440531356194,\n",
              "  'ROC': 0.6728452270620946},\n",
              " 1000: {'Accuracy': 0.5590062111801242,\n",
              "  'Balanced Accuracy': 0.5506641952425084,\n",
              "  'ROC': 0.6791782514674082},\n",
              " 5000: {'Accuracy': 0.546583850931677,\n",
              "  'Balanced Accuracy': 0.5386160024714242,\n",
              "  'ROC': 0.6604881062712389},\n",
              " 10000: {'Accuracy': 0.5527950310559007,\n",
              "  'Balanced Accuracy': 0.5438677788075379,\n",
              "  'ROC': 0.6793327154772938},\n",
              " 20000: {'Accuracy': 0.5652173913043478,\n",
              "  'Balanced Accuracy': 0.5551436515291936,\n",
              "  'ROC': 0.6992585727525487},\n",
              " 30000: {'Accuracy': 0.5527950310559007,\n",
              "  'Balanced Accuracy': 0.5430954587581094,\n",
              "  'ROC': 0.6822675316651221},\n",
              " 40000: {'Accuracy': 0.546583850931677,\n",
              "  'Balanced Accuracy': 0.5370713623725673,\n",
              "  'ROC': 0.6706827309236948},\n",
              " 60674: {'Accuracy': 0.5714285714285714,\n",
              "  'Balanced Accuracy': 0.5611677479147359,\n",
              "  'ROC': 0.692462156317578}}"
            ]
          },
          "metadata": {},
          "execution_count": 127
        }
      ]
    },
    {
      "cell_type": "code",
      "source": [
        "plotfromScores(logsc, \"Validation ROC vs. Number of Features for Classifier\\n of Cancer vs Normal Samples\")"
      ],
      "metadata": {
        "id": "7bthv2zLhgQQ",
        "colab": {
          "base_uri": "https://localhost:8080/",
          "height": 310
        },
        "outputId": "5997b844-97aa-4529-e4f4-2cc66ed6d05f"
      },
      "execution_count": null,
      "outputs": [
        {
          "output_type": "display_data",
          "data": {
            "text/plain": [
              "<Figure size 432x288 with 1 Axes>"
            ],
            "image/png": "[encoded data removed]"
          },
          "metadata": {
            "needs_background": "light"
          }
        }
      ]
    }
  ]
}